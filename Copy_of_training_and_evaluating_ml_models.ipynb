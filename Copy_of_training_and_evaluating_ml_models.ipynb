{
  "cells": [
    {
      "cell_type": "markdown",
      "metadata": {
        "id": "view-in-github",
        "colab_type": "text"
      },
      "source": [
        "<a href=\"https://colab.research.google.com/github/Snoopybrook/ai-4-chem/blob/main/Copy_of_training_and_evaluating_ml_models.ipynb\" target=\"_parent\"><img src=\"https://colab.research.google.com/assets/colab-badge.svg\" alt=\"Open In Colab\"/></a>"
      ]
    },
    {
      "cell_type": "markdown",
      "id": "f7b6d7b6-698e-4ea2-b8e9-bad6f279fcfe",
      "metadata": {
        "id": "f7b6d7b6-698e-4ea2-b8e9-bad6f279fcfe"
      },
      "source": [
        "<a href=\"https://colab.research.google.com/github/schwallergroup/ai4chem_course/blob/main/notebooks/02%20-%20Supervised%20Learning/training_and_evaluating_ml_models.ipynb\" target=\"_parent\"><img src=\"https://colab.research.google.com/assets/colab-badge.svg\" alt=\"Open In Colab\"/></a>"
      ]
    },
    {
      "cell_type": "markdown",
      "id": "cd7ee09d-524b-4f90-ac5c-cc37187ba4c4",
      "metadata": {
        "id": "cd7ee09d-524b-4f90-ac5c-cc37187ba4c4"
      },
      "source": [
        "# Week 2 tutorial - AI 4 Chemistry\n",
        "\n",
        "## Table of content\n",
        "\n",
        "0. Relevant packages\n",
        "1. Supervised learning\n",
        "2. Regression\n",
        "3. Classification"
      ]
    },
    {
      "cell_type": "markdown",
      "id": "a15d3c35",
      "metadata": {
        "tags": [],
        "id": "a15d3c35"
      },
      "source": [
        "# 0. Relevant packages\n",
        "\n",
        "### Scikit-learn\n",
        "Scikit-learn is an open source machine learning library that supports supervised and unsupervised learning. It also provides various tools for model fitting, data preprocessing, model selection, model evaluation, and many other utilities. We will learn to use scikit-learn to do machine learning work. You can also browse the scikit-learn [user guide](https://scikit-learn.org/stable/user_guide.html) and [tutorials](https://scikit-learn.org/stable/tutorial/index.html) for additional details.\n",
        "### Essential Libraries and Tools\n",
        "Scikit-learn depends on two other Python packages, NumPy and SciPy. For plotting and interactive development, you should also install matplotlib, IPython, and the Jupyter Notebook.\n",
        "- **NumPy** is one of the fundamental packages for scientific computing in Python. In scikit-learn, the NumPy array is the fundamental data structure. Any data you’re using will have to be converted to a NumPy array.\n",
        "- **SciPy** is a collection of functions for scientific computing in Python. Scikit-learn draws from SciPy’s collection of functions for implementing its algorithms.\n",
        "- **Matplotlib** is the primary scientific plotting library in Python. It provides functions for making publication-quality visualizations such as line charts, histograms, scatter plots, and so on.\n",
        "- **Pandas** Python library for data wrangling and analysis. It can ingest from a great variety of file formats and databases, like SQL, Excel files, and comma-separated values (CSV) files.\n",
        "\n",
        "### XGBoost\n",
        "XGBoost (eXtreme Gradient Boosting) is an optimized distributed gradient boosting library designed to be highly efficient, flexible and portable. It implements machine learning algorithms under the Gradient Boosting framework. XGBoost provides a parallel tree boosting (also known as GBDT, GBM) that solve many data science problems in a fast and accurate way. You can also browse the [XGBoost Documentation](https://xgboost.readthedocs.io/en/stable/) for additional details.\n",
        "\n",
        "### DeepChem\n",
        "DeepChem is a high quality open-source toolchain that democratizes the use of deep-learning in chemistry, biology and materials science. It also provides various tools for dataset loader, splitters, molecular featurization, model construction and hyperparameter tuning. You can also browse the [DeepChem Ducumentation](https://deepchem.readthedocs.io/en/latest/) for additional details."
      ]
    },
    {
      "cell_type": "markdown",
      "id": "44fbf541",
      "metadata": {
        "id": "44fbf541"
      },
      "source": [
        "We will first install the required libraries. We also need `RDKit` library to process and analyze molecules, like calculating molecular descriptors."
      ]
    },
    {
      "cell_type": "code",
      "execution_count": null,
      "id": "6ee96d46-2b8a-4043-8289-a5944f5311b7",
      "metadata": {
        "id": "6ee96d46-2b8a-4043-8289-a5944f5311b7",
        "outputId": "e0b88f33-a5c2-43aa-943e-d032ad9b2745",
        "colab": {
          "base_uri": "https://localhost:8080/"
        }
      },
      "outputs": [
        {
          "output_type": "stream",
          "name": "stdout",
          "text": [
            "Requirement already satisfied: numpy in /usr/local/lib/python3.10/dist-packages (1.24.4)\n",
            "Requirement already satisfied: scipy in /usr/local/lib/python3.10/dist-packages (1.8.1)\n",
            "Requirement already satisfied: matplotlib in /usr/local/lib/python3.10/dist-packages (3.7.1)\n",
            "Requirement already satisfied: scikit-learn in /usr/local/lib/python3.10/dist-packages (1.2.2)\n",
            "Requirement already satisfied: pandas in /usr/local/lib/python3.10/dist-packages (1.5.3)\n",
            "Requirement already satisfied: rdkit in /usr/local/lib/python3.10/dist-packages (2023.9.5)\n",
            "Requirement already satisfied: xgboost in /usr/local/lib/python3.10/dist-packages (2.0.3)\n",
            "Requirement already satisfied: deepchem in /usr/local/lib/python3.10/dist-packages (2.7.1)\n",
            "Requirement already satisfied: mordred in /usr/local/lib/python3.10/dist-packages (1.2.0)\n",
            "Requirement already satisfied: pycm in /usr/local/lib/python3.10/dist-packages (4.0)\n",
            "Requirement already satisfied: contourpy>=1.0.1 in /usr/local/lib/python3.10/dist-packages (from matplotlib) (1.2.0)\n",
            "Requirement already satisfied: cycler>=0.10 in /usr/local/lib/python3.10/dist-packages (from matplotlib) (0.12.1)\n",
            "Requirement already satisfied: fonttools>=4.22.0 in /usr/local/lib/python3.10/dist-packages (from matplotlib) (4.49.0)\n",
            "Requirement already satisfied: kiwisolver>=1.0.1 in /usr/local/lib/python3.10/dist-packages (from matplotlib) (1.4.5)\n",
            "Requirement already satisfied: packaging>=20.0 in /usr/local/lib/python3.10/dist-packages (from matplotlib) (23.2)\n",
            "Requirement already satisfied: pillow>=6.2.0 in /usr/local/lib/python3.10/dist-packages (from matplotlib) (9.4.0)\n",
            "Requirement already satisfied: pyparsing>=2.3.1 in /usr/local/lib/python3.10/dist-packages (from matplotlib) (3.1.1)\n",
            "Requirement already satisfied: python-dateutil>=2.7 in /usr/local/lib/python3.10/dist-packages (from matplotlib) (2.8.2)\n",
            "Requirement already satisfied: joblib>=1.1.1 in /usr/local/lib/python3.10/dist-packages (from scikit-learn) (1.3.2)\n",
            "Requirement already satisfied: threadpoolctl>=2.0.0 in /usr/local/lib/python3.10/dist-packages (from scikit-learn) (3.3.0)\n",
            "Requirement already satisfied: pytz>=2020.1 in /usr/local/lib/python3.10/dist-packages (from pandas) (2023.4)\n",
            "Requirement already satisfied: six==1.* in /usr/local/lib/python3.10/dist-packages (from mordred) (1.16.0)\n",
            "Requirement already satisfied: networkx==2.* in /usr/local/lib/python3.10/dist-packages (from mordred) (2.8.8)\n",
            "Requirement already satisfied: art>=1.8 in /usr/local/lib/python3.10/dist-packages (from pycm) (6.1)\n",
            "mkdir: cannot create directory ‘data’: File exists\n",
            "--2024-03-10 13:21:47--  https://raw.githubusercontent.com/schwallergroup/ai4chem_course/main/notebooks/02%20-%20Supervised%20Learning/data/esol.csv\n",
            "Resolving raw.githubusercontent.com (raw.githubusercontent.com)... 185.199.109.133, 185.199.108.133, 185.199.111.133, ...\n",
            "Connecting to raw.githubusercontent.com (raw.githubusercontent.com)|185.199.109.133|:443... connected.\n",
            "HTTP request sent, awaiting response... 200 OK\n",
            "Length: 34453 (34K) [text/plain]\n",
            "Saving to: ‘data/esol.csv’\n",
            "\n",
            "data/esol.csv       100%[===================>]  33.65K  --.-KB/s    in 0.002s  \n",
            "\n",
            "2024-03-10 13:21:47 (13.3 MB/s) - ‘data/esol.csv’ saved [34453/34453]\n",
            "\n",
            "--2024-03-10 13:21:48--  https://raw.githubusercontent.com/schwallergroup/ai4chem_course/main/notebooks/02%20-%20Supervised%20Learning/data/toxcast_data.csv\n",
            "Resolving raw.githubusercontent.com (raw.githubusercontent.com)... 185.199.108.133, 185.199.109.133, 185.199.110.133, ...\n",
            "Connecting to raw.githubusercontent.com (raw.githubusercontent.com)|185.199.108.133|:443... connected.\n",
            "HTTP request sent, awaiting response... 200 OK\n",
            "Length: 10281259 (9.8M) [text/plain]\n",
            "Saving to: ‘data/toxcast_data.csv’\n",
            "\n",
            "data/toxcast_data.c 100%[===================>]   9.80M  --.-KB/s    in 0.1s    \n",
            "\n",
            "2024-03-10 13:21:48 (88.0 MB/s) - ‘data/toxcast_data.csv’ saved [10281259/10281259]\n",
            "\n",
            "--2024-03-10 13:21:48--  https://drive.switch.ch/index.php/s/3WJTVB7xHG8ZOhD/download\n",
            "Resolving drive.switch.ch (drive.switch.ch)... 86.119.34.138, 86.119.34.137, 2001:620:5ca1:1ee::11, ...\n",
            "Connecting to drive.switch.ch (drive.switch.ch)|86.119.34.138|:443... connected.\n",
            "HTTP request sent, awaiting response... 200 OK\n",
            "Length: 102354656 (98M) [application/octet-stream]\n",
            "Saving to: ‘data/features_tox.npy’\n",
            "\n",
            "data/features_tox.n 100%[===================>]  97.61M  22.6MB/s    in 5.1s    \n",
            "\n",
            "2024-03-10 13:21:54 (19.1 MB/s) - ‘data/features_tox.npy’ saved [102354656/102354656]\n",
            "\n",
            "--2024-03-10 13:21:54--  https://drive.switch.ch/index.php/s/lFN8myikJekptjk/download\n",
            "Resolving drive.switch.ch (drive.switch.ch)... 86.119.34.138, 86.119.34.137, 2001:620:5ca1:1ee::11, ...\n",
            "Connecting to drive.switch.ch (drive.switch.ch)|86.119.34.138|:443... connected.\n",
            "HTTP request sent, awaiting response... 200 OK\n",
            "Length: 63584 (62K) [application/octet-stream]\n",
            "Saving to: ‘data/y_tox.npy’\n",
            "\n",
            "data/y_tox.npy      100%[===================>]  62.09K   261KB/s    in 0.2s    \n",
            "\n",
            "2024-03-10 13:21:55 (261 KB/s) - ‘data/y_tox.npy’ saved [63584/63584]\n",
            "\n"
          ]
        }
      ],
      "source": [
        "# Install all libraries\n",
        "!pip install numpy scipy matplotlib scikit-learn pandas rdkit xgboost deepchem mordred pycm\n",
        "\n",
        "# Download all data\n",
        "!mkdir data\n",
        "!wget https://raw.githubusercontent.com/schwallergroup/ai4chem_course/main/notebooks/02%20-%20Supervised%20Learning/data/esol.csv -O data/esol.csv\n",
        "!wget https://raw.githubusercontent.com/schwallergroup/ai4chem_course/main/notebooks/02%20-%20Supervised%20Learning/data/toxcast_data.csv -O data/toxcast_data.csv\n",
        "!wget https://drive.switch.ch/index.php/s/3WJTVB7xHG8ZOhD/download -O data/features_tox.npy\n",
        "!wget https://drive.switch.ch/index.php/s/lFN8myikJekptjk/download -O data/y_tox.npy"
      ]
    },
    {
      "cell_type": "markdown",
      "id": "0dba2fc2",
      "metadata": {
        "id": "0dba2fc2"
      },
      "source": [
        "# 1. Supervised learning\n",
        "Two major types of supervised machine learning problems:\n",
        "- **Classification**, where the task task is to predict a class label (e.g. what color, what smell, state of aggregation, etc).\n",
        "- **Regression**, where the task is to predict a real number (e.g. solubility in water, yield, selectivity, etc).\n",
        "\n",
        "## 1.1 Algorithms\n",
        "- k-Nearest Neighbors (k-NN)\n",
        "- Linear Models\n",
        "- Support Vector Machines (SVM)\n",
        "- Decision Trees\n",
        "- Ensembles of Decision Trees\n",
        "  - Random forests\n",
        "  - Gradient boosting machines\n",
        "\n",
        "The package [scikit-learn](https://scikit-learn.org/stable/index.html) lets us create a large number ML models in a very conveinent way."
      ]
    },
    {
      "cell_type": "code",
      "execution_count": null,
      "id": "86793e89",
      "metadata": {
        "id": "86793e89"
      },
      "outputs": [],
      "source": [
        "# linear regressor\n",
        "from sklearn.linear_model import LinearRegression\n",
        "lin_reg = LinearRegression()"
      ]
    },
    {
      "cell_type": "markdown",
      "id": "18fd6e5e-2960-4446-8a57-920f0e324129",
      "metadata": {
        "id": "18fd6e5e-2960-4446-8a57-920f0e324129"
      },
      "source": [
        "### Exercise: Similarly to the linear regression model above, create a [k-NN regression model](https://scikit-learn.org/stable/modules/generated/sklearn.neighbors.KNeighborsRegressor.html) using scikit-learn."
      ]
    },
    {
      "cell_type": "code",
      "execution_count": null,
      "id": "26f1caf4",
      "metadata": {
        "id": "26f1caf4"
      },
      "outputs": [],
      "source": [
        "### YOUR CODE\n",
        "\n",
        "# import\n",
        "from sklearn.neighbors import KNeighborsRegressor\n",
        "\n",
        "# create knn model\n",
        "knn_clf = KNeighborsRegressor(n_neighbors=2)\n",
        "\n",
        "### END"
      ]
    },
    {
      "cell_type": "markdown",
      "id": "3441adba",
      "metadata": {
        "id": "3441adba"
      },
      "source": [
        "Next time, you can browse the scikit-learn [user guide](https://scikit-learn.org/stable/user_guide.html) to learn about supported algorithms and how to create the model you want."
      ]
    },
    {
      "cell_type": "markdown",
      "id": "d7bd577f-19c7-4121-b0c7-753f1e500356",
      "metadata": {
        "id": "d7bd577f-19c7-4121-b0c7-753f1e500356"
      },
      "source": [
        "## 1.2 Model evaluation and data splitting\n",
        "\n",
        "### Why do we need to split the dataset?\n",
        "\n",
        "We want models to learn from data so we can use them in the future, but we also need to know how good our models perform when they see new examples, and so we reserve some part of our dataset for `testing`: we keep it to evaluate how the model would do the real world, with data it hasn't seen before.\n",
        "\n",
        "In addition, typically we implement multiple models and select the best one, but how to assess which one is the best, without revealing the `test set`? Well, take another subset of the data, and this one we call `validation` set.\n",
        "\n",
        "In the end, we end up splitting our data into `training` (used for training the models), `validation` (for selecting the models), and `test` (for testing the resulting models). If you have more time, you can read [this article](https://towardsdatascience.com/how-to-split-data-into-three-sets-train-validation-and-test-and-why-e50d22d3e54c) for more details.\n",
        "\n",
        "### Evaluation metrics\n",
        "The metrics used to evaluate the ML models are very important. The choice of metrics to use influences how model performance is measured and compared. The main evaluation metrics for regression and classification tasks are illustrated below. If you have more time, you can read this [article](https://blog.knoldus.com/model-evaluation-metrics-for-machine-learning-algorithms/) for more details.\n",
        "\n",
        "<div align=\"center\">\n",
        "<img src=\"https://www.oreilly.com/api/v2/epubs/9781492073048/files/assets/mlbf_0407.png\" width=\"500\"/>\n",
        "</div>"
      ]
    },
    {
      "cell_type": "markdown",
      "id": "6a633f2c",
      "metadata": {
        "id": "6a633f2c"
      },
      "source": [
        "## 1.3 The path to a ML model.\n",
        "0. Define the task\n",
        "1. Prepare data & split data\n",
        "2. Choose the model\n",
        "3. Train the model\n",
        "4. Evaluate the model\n",
        "5. Use the model"
      ]
    },
    {
      "cell_type": "markdown",
      "id": "048efaf2",
      "metadata": {
        "id": "048efaf2"
      },
      "source": [
        "# 2. Regression\n",
        "\n",
        "**Aqueous solubility is one of the key physical properties of interest to a medicinal or agrochemical chemist**. Solubility affects the uptake/distribution of biologically active compounds in living material and the environment, thus affecting their potential efficacy and marketability. However, solubility determination is a time-consuming experiment, and it is useful to be able to assess solubility in the absence of a physical sample.\n",
        "\n",
        "Our goal here will be to build a ML model that can predict **aqueous solubility** of organic molecules.\n",
        "\n",
        "### We will use the [ESOL dataset](https://pubs.acs.org/doi/10.1021/ci034243x) for this task.\n",
        "This dataset contains structures and water solubility data for 1128 compounds."
      ]
    },
    {
      "cell_type": "markdown",
      "id": "cf98acc5",
      "metadata": {
        "id": "cf98acc5"
      },
      "source": [
        "### Load dataset"
      ]
    },
    {
      "cell_type": "code",
      "execution_count": null,
      "id": "bf79eb55",
      "metadata": {
        "id": "bf79eb55",
        "outputId": "fd221466-27b5-469a-ba30-e7f764060286",
        "colab": {
          "base_uri": "https://localhost:8080/",
          "height": 206
        }
      },
      "outputs": [
        {
          "output_type": "execute_result",
          "data": {
            "text/plain": [
              "                                     smiles  log solubility (mol/L)\n",
              "422  ClC(Cl)C(Cl)(Cl)SN2C(=O)C1CC=CCC1C2=O                   -5.400\n",
              "784                     Oc1c(Cl)ccc(Cl)c1Cl                  -2.640\n",
              "779           O=C1NC(=O)NC(=O)C1(CC)CCC(C)C                  -2.658\n",
              "485              COP(=O)(OC)C(O)C(Cl)(Cl)Cl                  -0.220\n",
              "758                     COP(=O)(NC(C)=O)SC                    0.540"
            ],
            "text/html": [
              "\n",
              "  <div id=\"df-7995a649-4102-4ec5-9a42-97d1588fe1d6\" class=\"colab-df-container\">\n",
              "    <div>\n",
              "<style scoped>\n",
              "    .dataframe tbody tr th:only-of-type {\n",
              "        vertical-align: middle;\n",
              "    }\n",
              "\n",
              "    .dataframe tbody tr th {\n",
              "        vertical-align: top;\n",
              "    }\n",
              "\n",
              "    .dataframe thead th {\n",
              "        text-align: right;\n",
              "    }\n",
              "</style>\n",
              "<table border=\"1\" class=\"dataframe\">\n",
              "  <thead>\n",
              "    <tr style=\"text-align: right;\">\n",
              "      <th></th>\n",
              "      <th>smiles</th>\n",
              "      <th>log solubility (mol/L)</th>\n",
              "    </tr>\n",
              "  </thead>\n",
              "  <tbody>\n",
              "    <tr>\n",
              "      <th>422</th>\n",
              "      <td>ClC(Cl)C(Cl)(Cl)SN2C(=O)C1CC=CCC1C2=O</td>\n",
              "      <td>-5.400</td>\n",
              "    </tr>\n",
              "    <tr>\n",
              "      <th>784</th>\n",
              "      <td>Oc1c(Cl)ccc(Cl)c1Cl</td>\n",
              "      <td>-2.640</td>\n",
              "    </tr>\n",
              "    <tr>\n",
              "      <th>779</th>\n",
              "      <td>O=C1NC(=O)NC(=O)C1(CC)CCC(C)C</td>\n",
              "      <td>-2.658</td>\n",
              "    </tr>\n",
              "    <tr>\n",
              "      <th>485</th>\n",
              "      <td>COP(=O)(OC)C(O)C(Cl)(Cl)Cl</td>\n",
              "      <td>-0.220</td>\n",
              "    </tr>\n",
              "    <tr>\n",
              "      <th>758</th>\n",
              "      <td>COP(=O)(NC(C)=O)SC</td>\n",
              "      <td>0.540</td>\n",
              "    </tr>\n",
              "  </tbody>\n",
              "</table>\n",
              "</div>\n",
              "    <div class=\"colab-df-buttons\">\n",
              "\n",
              "  <div class=\"colab-df-container\">\n",
              "    <button class=\"colab-df-convert\" onclick=\"convertToInteractive('df-7995a649-4102-4ec5-9a42-97d1588fe1d6')\"\n",
              "            title=\"Convert this dataframe to an interactive table.\"\n",
              "            style=\"display:none;\">\n",
              "\n",
              "  <svg xmlns=\"http://www.w3.org/2000/svg\" height=\"24px\" viewBox=\"0 -960 960 960\">\n",
              "    <path d=\"M120-120v-720h720v720H120Zm60-500h600v-160H180v160Zm220 220h160v-160H400v160Zm0 220h160v-160H400v160ZM180-400h160v-160H180v160Zm440 0h160v-160H620v160ZM180-180h160v-160H180v160Zm440 0h160v-160H620v160Z\"/>\n",
              "  </svg>\n",
              "    </button>\n",
              "\n",
              "  <style>\n",
              "    .colab-df-container {\n",
              "      display:flex;\n",
              "      gap: 12px;\n",
              "    }\n",
              "\n",
              "    .colab-df-convert {\n",
              "      background-color: #E8F0FE;\n",
              "      border: none;\n",
              "      border-radius: 50%;\n",
              "      cursor: pointer;\n",
              "      display: none;\n",
              "      fill: #1967D2;\n",
              "      height: 32px;\n",
              "      padding: 0 0 0 0;\n",
              "      width: 32px;\n",
              "    }\n",
              "\n",
              "    .colab-df-convert:hover {\n",
              "      background-color: #E2EBFA;\n",
              "      box-shadow: 0px 1px 2px rgba(60, 64, 67, 0.3), 0px 1px 3px 1px rgba(60, 64, 67, 0.15);\n",
              "      fill: #174EA6;\n",
              "    }\n",
              "\n",
              "    .colab-df-buttons div {\n",
              "      margin-bottom: 4px;\n",
              "    }\n",
              "\n",
              "    [theme=dark] .colab-df-convert {\n",
              "      background-color: #3B4455;\n",
              "      fill: #D2E3FC;\n",
              "    }\n",
              "\n",
              "    [theme=dark] .colab-df-convert:hover {\n",
              "      background-color: #434B5C;\n",
              "      box-shadow: 0px 1px 3px 1px rgba(0, 0, 0, 0.15);\n",
              "      filter: drop-shadow(0px 1px 2px rgba(0, 0, 0, 0.3));\n",
              "      fill: #FFFFFF;\n",
              "    }\n",
              "  </style>\n",
              "\n",
              "    <script>\n",
              "      const buttonEl =\n",
              "        document.querySelector('#df-7995a649-4102-4ec5-9a42-97d1588fe1d6 button.colab-df-convert');\n",
              "      buttonEl.style.display =\n",
              "        google.colab.kernel.accessAllowed ? 'block' : 'none';\n",
              "\n",
              "      async function convertToInteractive(key) {\n",
              "        const element = document.querySelector('#df-7995a649-4102-4ec5-9a42-97d1588fe1d6');\n",
              "        const dataTable =\n",
              "          await google.colab.kernel.invokeFunction('convertToInteractive',\n",
              "                                                    [key], {});\n",
              "        if (!dataTable) return;\n",
              "\n",
              "        const docLinkHtml = 'Like what you see? Visit the ' +\n",
              "          '<a target=\"_blank\" href=https://colab.research.google.com/notebooks/data_table.ipynb>data table notebook</a>'\n",
              "          + ' to learn more about interactive tables.';\n",
              "        element.innerHTML = '';\n",
              "        dataTable['output_type'] = 'display_data';\n",
              "        await google.colab.output.renderOutput(dataTable, element);\n",
              "        const docLink = document.createElement('div');\n",
              "        docLink.innerHTML = docLinkHtml;\n",
              "        element.appendChild(docLink);\n",
              "      }\n",
              "    </script>\n",
              "  </div>\n",
              "\n",
              "\n",
              "<div id=\"df-bdd8f017-75be-4f4f-8d36-8b2c64e48e07\">\n",
              "  <button class=\"colab-df-quickchart\" onclick=\"quickchart('df-bdd8f017-75be-4f4f-8d36-8b2c64e48e07')\"\n",
              "            title=\"Suggest charts\"\n",
              "            style=\"display:none;\">\n",
              "\n",
              "<svg xmlns=\"http://www.w3.org/2000/svg\" height=\"24px\"viewBox=\"0 0 24 24\"\n",
              "     width=\"24px\">\n",
              "    <g>\n",
              "        <path d=\"M19 3H5c-1.1 0-2 .9-2 2v14c0 1.1.9 2 2 2h14c1.1 0 2-.9 2-2V5c0-1.1-.9-2-2-2zM9 17H7v-7h2v7zm4 0h-2V7h2v10zm4 0h-2v-4h2v4z\"/>\n",
              "    </g>\n",
              "</svg>\n",
              "  </button>\n",
              "\n",
              "<style>\n",
              "  .colab-df-quickchart {\n",
              "      --bg-color: #E8F0FE;\n",
              "      --fill-color: #1967D2;\n",
              "      --hover-bg-color: #E2EBFA;\n",
              "      --hover-fill-color: #174EA6;\n",
              "      --disabled-fill-color: #AAA;\n",
              "      --disabled-bg-color: #DDD;\n",
              "  }\n",
              "\n",
              "  [theme=dark] .colab-df-quickchart {\n",
              "      --bg-color: #3B4455;\n",
              "      --fill-color: #D2E3FC;\n",
              "      --hover-bg-color: #434B5C;\n",
              "      --hover-fill-color: #FFFFFF;\n",
              "      --disabled-bg-color: #3B4455;\n",
              "      --disabled-fill-color: #666;\n",
              "  }\n",
              "\n",
              "  .colab-df-quickchart {\n",
              "    background-color: var(--bg-color);\n",
              "    border: none;\n",
              "    border-radius: 50%;\n",
              "    cursor: pointer;\n",
              "    display: none;\n",
              "    fill: var(--fill-color);\n",
              "    height: 32px;\n",
              "    padding: 0;\n",
              "    width: 32px;\n",
              "  }\n",
              "\n",
              "  .colab-df-quickchart:hover {\n",
              "    background-color: var(--hover-bg-color);\n",
              "    box-shadow: 0 1px 2px rgba(60, 64, 67, 0.3), 0 1px 3px 1px rgba(60, 64, 67, 0.15);\n",
              "    fill: var(--button-hover-fill-color);\n",
              "  }\n",
              "\n",
              "  .colab-df-quickchart-complete:disabled,\n",
              "  .colab-df-quickchart-complete:disabled:hover {\n",
              "    background-color: var(--disabled-bg-color);\n",
              "    fill: var(--disabled-fill-color);\n",
              "    box-shadow: none;\n",
              "  }\n",
              "\n",
              "  .colab-df-spinner {\n",
              "    border: 2px solid var(--fill-color);\n",
              "    border-color: transparent;\n",
              "    border-bottom-color: var(--fill-color);\n",
              "    animation:\n",
              "      spin 1s steps(1) infinite;\n",
              "  }\n",
              "\n",
              "  @keyframes spin {\n",
              "    0% {\n",
              "      border-color: transparent;\n",
              "      border-bottom-color: var(--fill-color);\n",
              "      border-left-color: var(--fill-color);\n",
              "    }\n",
              "    20% {\n",
              "      border-color: transparent;\n",
              "      border-left-color: var(--fill-color);\n",
              "      border-top-color: var(--fill-color);\n",
              "    }\n",
              "    30% {\n",
              "      border-color: transparent;\n",
              "      border-left-color: var(--fill-color);\n",
              "      border-top-color: var(--fill-color);\n",
              "      border-right-color: var(--fill-color);\n",
              "    }\n",
              "    40% {\n",
              "      border-color: transparent;\n",
              "      border-right-color: var(--fill-color);\n",
              "      border-top-color: var(--fill-color);\n",
              "    }\n",
              "    60% {\n",
              "      border-color: transparent;\n",
              "      border-right-color: var(--fill-color);\n",
              "    }\n",
              "    80% {\n",
              "      border-color: transparent;\n",
              "      border-right-color: var(--fill-color);\n",
              "      border-bottom-color: var(--fill-color);\n",
              "    }\n",
              "    90% {\n",
              "      border-color: transparent;\n",
              "      border-bottom-color: var(--fill-color);\n",
              "    }\n",
              "  }\n",
              "</style>\n",
              "\n",
              "  <script>\n",
              "    async function quickchart(key) {\n",
              "      const quickchartButtonEl =\n",
              "        document.querySelector('#' + key + ' button');\n",
              "      quickchartButtonEl.disabled = true;  // To prevent multiple clicks.\n",
              "      quickchartButtonEl.classList.add('colab-df-spinner');\n",
              "      try {\n",
              "        const charts = await google.colab.kernel.invokeFunction(\n",
              "            'suggestCharts', [key], {});\n",
              "      } catch (error) {\n",
              "        console.error('Error during call to suggestCharts:', error);\n",
              "      }\n",
              "      quickchartButtonEl.classList.remove('colab-df-spinner');\n",
              "      quickchartButtonEl.classList.add('colab-df-quickchart-complete');\n",
              "    }\n",
              "    (() => {\n",
              "      let quickchartButtonEl =\n",
              "        document.querySelector('#df-bdd8f017-75be-4f4f-8d36-8b2c64e48e07 button');\n",
              "      quickchartButtonEl.style.display =\n",
              "        google.colab.kernel.accessAllowed ? 'block' : 'none';\n",
              "    })();\n",
              "  </script>\n",
              "</div>\n",
              "    </div>\n",
              "  </div>\n"
            ],
            "application/vnd.google.colaboratory.intrinsic+json": {
              "type": "dataframe",
              "summary": "{\n  \"name\": \"esol_df\",\n  \"rows\": 5,\n  \"fields\": [\n    {\n      \"column\": \"smiles\",\n      \"properties\": {\n        \"dtype\": \"string\",\n        \"num_unique_values\": 5,\n        \"samples\": [\n          \"Oc1c(Cl)ccc(Cl)c1Cl\",\n          \"COP(=O)(NC(C)=O)SC \",\n          \"O=C1NC(=O)NC(=O)C1(CC)CCC(C)C\"\n        ],\n        \"semantic_type\": \"\",\n        \"description\": \"\"\n      }\n    },\n    {\n      \"column\": \"log solubility (mol/L)\",\n      \"properties\": {\n        \"dtype\": \"number\",\n        \"std\": 2.3448873746941454,\n        \"min\": -5.4,\n        \"max\": 0.54,\n        \"num_unique_values\": 5,\n        \"samples\": [\n          -2.64,\n          0.54,\n          -2.658\n        ],\n        \"semantic_type\": \"\",\n        \"description\": \"\"\n      }\n    }\n  ]\n}"
            }
          },
          "metadata": {},
          "execution_count": 3
        }
      ],
      "source": [
        "import pandas as pd\n",
        "\n",
        "# load dataset from the CSV file\n",
        "esol_df = pd.read_csv('data/esol.csv')\n",
        "esol_df.sample(5)"
      ]
    },
    {
      "cell_type": "markdown",
      "id": "794e236d",
      "metadata": {
        "id": "794e236d"
      },
      "source": [
        "The original dataset contains 2 columns, the `smiles` column, which encodes the molecular structure, and the `log solubility (mol/L)` columns represents aqueous solubility of molecules, which is the our target for this task."
      ]
    },
    {
      "cell_type": "code",
      "execution_count": null,
      "id": "2950f29b",
      "metadata": {
        "id": "2950f29b"
      },
      "outputs": [],
      "source": [
        "# Get NumPy arrays from DataFrame for the input and target\n",
        "smiles = esol_df['smiles'].values\n",
        "y = esol_df['log solubility (mol/L)'].values"
      ]
    },
    {
      "cell_type": "markdown",
      "id": "343779ed",
      "metadata": {
        "id": "343779ed"
      },
      "source": [
        "### Molecular descriptor calculation\n",
        "We need to convert the SMILES strings of molecules into numerical values that can be used as input to the ML models. Many molecular descriptors can be calculated from SMILES strings using software like `RDKit`, `DeepChem` and [Mordred](https://github.com/mordred-descriptor/mordred).\\\n",
        "For this task we will use [DeepChem featurizers](https://deepchem.readthedocs.io/en/latest/api_reference/featurizers.html) to compute molecular descriptors."
      ]
    },
    {
      "cell_type": "code",
      "execution_count": null,
      "id": "e5961b50",
      "metadata": {
        "id": "e5961b50",
        "outputId": "e8493ac5-6c14-45b9-a0b1-5c3d6c02a068",
        "colab": {
          "base_uri": "https://localhost:8080/"
        }
      },
      "outputs": [
        {
          "output_type": "stream",
          "name": "stdout",
          "text": [
            "Number of generated molecular descriptors: 210\n",
            "Number of molecular descriptors without invalid values: 210\n"
          ]
        }
      ],
      "source": [
        "# Here, we use molecular descriptors from RDKit, like molecular weight, number of valence electrons, maximum and minimum partial charge, etc.\n",
        "from deepchem.feat import RDKitDescriptors\n",
        "featurizer = RDKitDescriptors()\n",
        "features = featurizer.featurize(smiles)\n",
        "print(f\"Number of generated molecular descriptors: {features.shape[1]}\")\n",
        "\n",
        "# Drop the features containing invalid values\n",
        "import numpy as np\n",
        "features = features[:, ~np.isnan(features).any(axis=0)]\n",
        "print(f\"Number of molecular descriptors without invalid values: {features.shape[1]}\")"
      ]
    },
    {
      "cell_type": "markdown",
      "id": "8d9c63ba",
      "metadata": {
        "id": "8d9c63ba"
      },
      "source": [
        "**Exercise**: You can try to use [MACCSKeysFingerprint](https://deepchem.readthedocs.io/en/latest/api_reference/featurizers.html#maccskeysfingerprint) in [DeepChem featurizers](https://deepchem.readthedocs.io/en/latest/api_reference/featurizers.html) to compute molecular descriptors."
      ]
    },
    {
      "cell_type": "code",
      "execution_count": null,
      "id": "09f941ad",
      "metadata": {
        "id": "09f941ad"
      },
      "outputs": [],
      "source": [
        "### YOUR CODE\n",
        "\n",
        "# import the featurizer\n",
        "import deepchem.feat as dcfeat\n",
        "\n",
        "# create featurizer\n",
        "mf_featurizer = dcfeat.MACCSKeysFingerprint()\n",
        "\n",
        "# compute molecular descriptors\n",
        "mf_features = mf_featurizer(smiles)"
      ]
    },
    {
      "cell_type": "markdown",
      "id": "97180e44",
      "metadata": {
        "id": "97180e44"
      },
      "source": [
        "### Feature Selection\n",
        "\n",
        "Feature selection is a crucial step in machine learning that involves selecting the most relevant features (or variables) from a dataset. This process helps to improve the accuracy and efficiency of a model by reducing the amount of noise and redundancy in the data. Essentially, feature selection allows us to focus on the most important information in the dataset, while ignoring the irrelevant or redundant information.\n",
        "\n",
        "Many classes and functions in the [sklearn.feature_selection](https://scikit-learn.org/stable/modules/feature_selection.html) module can be used for feature selection.\\\n",
        "Here we show a simple feature selection using `VarianceThreshold` in `scikt-learn`."
      ]
    },
    {
      "cell_type": "code",
      "execution_count": null,
      "id": "326fe67b",
      "metadata": {
        "id": "326fe67b",
        "outputId": "abbe867e-de48-4ea0-fc1a-aa41b048390e",
        "colab": {
          "base_uri": "https://localhost:8080/"
        }
      },
      "outputs": [
        {
          "output_type": "stream",
          "name": "stdout",
          "text": [
            "Number of molecular descriptors after removing zero-variance features: 191\n"
          ]
        }
      ],
      "source": [
        "# Here, we removed all zero-variance features, i.e. features that have the same value in all samples.\n",
        "from sklearn.feature_selection import VarianceThreshold\n",
        "selector = VarianceThreshold(threshold=0.0)\n",
        "features = selector.fit_transform(features)\n",
        "print(f\"Number of molecular descriptors after removing zero-variance features: {features.shape[1]}\")"
      ]
    },
    {
      "cell_type": "markdown",
      "id": "138076f4",
      "metadata": {
        "id": "138076f4"
      },
      "source": [
        "### Dataset split"
      ]
    },
    {
      "cell_type": "code",
      "execution_count": null,
      "id": "fa8675b2",
      "metadata": {
        "id": "fa8675b2"
      },
      "outputs": [],
      "source": [
        "from sklearn.model_selection import train_test_split\n",
        "X = features\n",
        "# training data size : test data size = 0.8 : 0.2\n",
        "# fixed seed using the random_state parameter, so it always has the same split.\n",
        "X_train, X_test, y_train, y_test = train_test_split(\n",
        "    X, y, train_size=0.8, random_state=0)"
      ]
    },
    {
      "cell_type": "code",
      "source": [
        "X_train_ori[1][1]"
      ],
      "metadata": {
        "id": "V1CvpgYhlx9d",
        "outputId": "c61fa997-0dc4-4cb6-cf74-ac13e96f81f0",
        "colab": {
          "base_uri": "https://localhost:8080/"
        }
      },
      "id": "V1CvpgYhlx9d",
      "execution_count": null,
      "outputs": [
        {
          "output_type": "execute_result",
          "data": {
            "text/plain": [
              "5.590833333333332"
            ]
          },
          "metadata": {},
          "execution_count": 32
        }
      ]
    },
    {
      "cell_type": "markdown",
      "id": "1aa51e6b",
      "metadata": {
        "id": "1aa51e6b"
      },
      "source": [
        "### Data preprocessing\n",
        "\n",
        "As it turns out, different features have different scales and distributions.\\\n",
        "Think of molecular weight, which goes from **0 to around 1000 u.a.m. for small organic molecules**, and electrochemical potential, [typically between -3 and 3](https://par.nsf.gov/servlets/purl/10016877). These differences have a huge impact on ML models, which is the reason why we will normalize all the features.\n",
        "\n",
        "Many classes and functions in the [sklearn.preprocessing](https://scikit-learn.org/stable/modules/preprocessing.html) module can be used for preprocessing data. Here we show a simple Min-Max normalization of features using `MinMaxScaler` in `scikt-learn`."
      ]
    },
    {
      "cell_type": "code",
      "execution_count": null,
      "id": "4b684fd7",
      "metadata": {
        "id": "4b684fd7"
      },
      "outputs": [],
      "source": [
        "from sklearn.preprocessing import MinMaxScaler\n",
        "scaler = MinMaxScaler()\n",
        "scaler.fit(X_train)\n",
        "\n",
        "# save original X\n",
        "X_train_ori = X_train\n",
        "X_test_ori = X_test\n",
        "# transform data\n",
        "X_train = scaler.transform(X_train)\n",
        "X_test = scaler.transform(X_test)"
      ]
    },
    {
      "cell_type": "code",
      "source": [
        "X_train [1][1]\n"
      ],
      "metadata": {
        "id": "Xe7fu9MrlxPq",
        "outputId": "f157917f-3498-495a-fe49-02abf9fba384",
        "colab": {
          "base_uri": "https://localhost:8080/"
        }
      },
      "id": "Xe7fu9MrlxPq",
      "execution_count": null,
      "outputs": [
        {
          "output_type": "execute_result",
          "data": {
            "text/plain": [
              "0.3238805908777824"
            ]
          },
          "metadata": {},
          "execution_count": 34
        }
      ]
    },
    {
      "cell_type": "markdown",
      "id": "7e1e3784",
      "metadata": {
        "id": "7e1e3784"
      },
      "source": [
        "### Q: Is there a difference between doing data preprocessing before and after data split? Which one is better and why?"
      ]
    },
    {
      "cell_type": "markdown",
      "id": "394d369a",
      "metadata": {
        "id": "394d369a"
      },
      "source": [
        "### Create models"
      ]
    },
    {
      "cell_type": "code",
      "execution_count": null,
      "id": "15b94772",
      "metadata": {
        "id": "15b94772"
      },
      "outputs": [],
      "source": [
        "# random forest regressor, and the default criterion is mean squared error (MSE)\n",
        "from sklearn.ensemble import RandomForestRegressor\n",
        "ranf_reg = RandomForestRegressor(n_estimators=10, random_state=0)  # using 10 trees and seed=0\n",
        "\n",
        "# XGBoost regressor\n",
        "from xgboost import XGBRegressor\n",
        "xgb_reg = XGBRegressor(n_estimators=10, random_state=0)  # using 10 trees and seed=0"
      ]
    },
    {
      "cell_type": "markdown",
      "id": "0b66c0b1",
      "metadata": {
        "id": "0b66c0b1"
      },
      "source": [
        "### Train and evaluate the models\n",
        "- Mean Squared Error: $MSE$ = $\\frac{1}{n} \\Sigma_{i=1}^n({y}-\\hat{y})^2$\n",
        "- Root Mean Squared Error: $RMSE$ = $\\sqrt{MSE}$ = $\\sqrt{\\frac{1}{n} \\Sigma_{i=1}^n({y}-\\hat{y})^2}$\n",
        "\n",
        "We choose `RMSE` as the evaluation metric for this task."
      ]
    },
    {
      "cell_type": "code",
      "execution_count": null,
      "id": "68b21ecd",
      "metadata": {
        "id": "68b21ecd",
        "outputId": "16e3154b-56ef-469f-9c9b-e031af047a52",
        "colab": {
          "base_uri": "https://localhost:8080/"
        }
      },
      "outputs": [
        {
          "output_type": "stream",
          "name": "stdout",
          "text": [
            "Evaluating Random Forest Model.\n",
            "RMSE on train set: 0.279, and test set: 0.723.\n",
            "\n",
            "Evaluating XGBoost model.\n",
            "RMSE on train set: 0.279, and test set: 0.732.\n",
            "\n"
          ]
        }
      ],
      "source": [
        "from sklearn.metrics import mean_squared_error\n",
        "\n",
        "def train_test_model(model, X_train, y_train, X_test, y_test):\n",
        "    \"\"\"\n",
        "    Function that trains a model, and tests it.\n",
        "    Inputs: sklearn model, train_data, test_data\n",
        "    \"\"\"\n",
        "    # Train model\n",
        "    model.fit(X_train, y_train)\n",
        "\n",
        "    # Calculate RMSE on training\n",
        "    y_pred_train = model.predict(X_train)\n",
        "    y_pred_test = model.predict(X_test)\n",
        "    model_train_mse = mean_squared_error(y_train, y_pred_train)\n",
        "    model_test_mse = mean_squared_error(y_test, y_pred_test)\n",
        "    model_train_rmse = model_train_mse ** 0.5\n",
        "    model_test_rmse = model_test_mse ** 0.5\n",
        "    print(f\"RMSE on train set: {model_train_rmse:.3f}, and test set: {model_test_rmse:.3f}.\\n\")\n",
        "\n",
        "\n",
        "# Train and test the random forest model\n",
        "print(\"Evaluating Random Forest Model.\")\n",
        "train_test_model(ranf_reg, X_train, y_train, X_test, y_test)\n",
        "\n",
        "# Train and test XGBoost model\n",
        "print(\"Evaluating XGBoost model.\")\n",
        "train_test_model(xgb_reg, X_train, y_train, X_test, y_test)"
      ]
    },
    {
      "cell_type": "markdown",
      "id": "712c715f",
      "metadata": {
        "id": "712c715f"
      },
      "source": [
        "### Q: Compare the results. Which model is better in this case?"
      ]
    },
    {
      "cell_type": "markdown",
      "source": [
        "RMSE"
      ],
      "metadata": {
        "id": "US0gLQp4ox39"
      },
      "id": "US0gLQp4ox39"
    },
    {
      "cell_type": "markdown",
      "id": "209edf19",
      "metadata": {
        "id": "209edf19"
      },
      "source": [
        "**Exercise**: Try to train a [SVM model](https://scikit-learn.org/stable/modules/svm.html#regression) and evaluate it. You can create a [SVR](https://scikit-learn.org/stable/modules/generated/sklearn.svm.SVR.html#sklearn.svm.SVR) model using default parameters."
      ]
    },
    {
      "cell_type": "code",
      "execution_count": null,
      "id": "d7746533",
      "metadata": {
        "id": "d7746533",
        "outputId": "9c30f505-50ab-4a65-b671-87066aca482f",
        "colab": {
          "base_uri": "https://localhost:8080/"
        }
      },
      "outputs": [
        {
          "output_type": "stream",
          "name": "stdout",
          "text": [
            "RMSE on train set: 0.521, and test set: 0.731.\n",
            "\n"
          ]
        }
      ],
      "source": [
        "### YOUR CODE\n",
        "\n",
        "# import\n",
        "from sklearn import svm\n",
        "\n",
        "# create a model\n",
        "svm_reg = svm.SVR()\n",
        "\n",
        "# train and evaluate the model\n",
        "train_test_model(svm_reg, X_train, y_train, X_test, y_test)\n",
        "\n",
        "### END\n"
      ]
    },
    {
      "cell_type": "markdown",
      "id": "d7de3621",
      "metadata": {
        "id": "d7de3621"
      },
      "source": [
        "Perfect! Now you have mastered training and evaluating the model you want."
      ]
    },
    {
      "cell_type": "markdown",
      "id": "304d42f3",
      "metadata": {
        "id": "304d42f3"
      },
      "source": [
        "## Cross-validation and hyperparamter optimization\n",
        "\n",
        "Our last topic in this section is hyperparameter optimization.\n",
        "\n",
        "As you've seen, models need some parameters as input, and we need to decide which are the best parameters (e.g. `n_estimators` in tree-based models). Many classes and functions in the [sklearn.model_selection](https://scikit-learn.org/stable/model_selection.html) module can be used for cross validation and hyperparamter optimization.\\\n",
        "Here, we use cross validation and grid search methods to optimize the paramters of random forest model. In cross-validation, the original training data is further split into training and validation sets.\n",
        "\n",
        "The class [GridSearchCV](https://scikit-learn.org/stable/modules/generated/sklearn.model_selection.GridSearchCV.html#sklearn.model_selection.GridSearchCV) does all the work for us, combining cross-validation with grid search, so we can very easily optimize the hyperparameters.\n",
        "\n",
        "<div align=\"center\">\n",
        "<img src=\"https://scikit-learn.org/stable/_images/grid_search_workflow.png\" width=\"400\"/>\n",
        "</div>\n",
        "\n",
        "\n",
        "<font size=5 color=\"red\">\n",
        "Note that when you call grid_search.fit(), you only pass the training data as argument.\n",
        "</font>\n",
        "Why?"
      ]
    },
    {
      "cell_type": "code",
      "execution_count": null,
      "id": "73db8e66-7724-40c4-8876-39668793ff1f",
      "metadata": {
        "id": "73db8e66-7724-40c4-8876-39668793ff1f",
        "outputId": "5e2eb4b7-fb29-4976-a9e1-a8f22b8d8a25",
        "colab": {
          "base_uri": "https://localhost:8080/"
        }
      },
      "outputs": [
        {
          "output_type": "stream",
          "name": "stdout",
          "text": [
            "Best paramters:  {'max_depth': 10, 'n_estimators': 50}\n",
            "Random forests performance after hyperparamter optimization:\n",
            "RMSE on train set: 0.283, and test set: 0.685.\n",
            "\n"
          ]
        }
      ],
      "source": [
        "from sklearn.model_selection import GridSearchCV\n",
        "\n",
        "param_grid = {\n",
        "    'n_estimators': [50, 100],\n",
        "    'max_depth': [5, 10, 20, 30]\n",
        "}\n",
        "\n",
        "# use 5-folds cross validation during grid searching\n",
        "grid_search = GridSearchCV(\n",
        "    RandomForestRegressor(random_state=0),\n",
        "    param_grid,\n",
        "    cv=5\n",
        ")\n",
        "grid_search.fit(X_train, y_train)\n",
        "\n",
        "# re-train a model using best hyperparameters\n",
        "rf_gs = RandomForestRegressor(**grid_search.best_params_, random_state=0)\n",
        "\n",
        "print('Best paramters: ', grid_search.best_params_)\n",
        "print('Random forests performance after hyperparamter optimization:')\n",
        "train_test_model(rf_gs, X_train, y_train, X_test, y_test)"
      ]
    },
    {
      "cell_type": "markdown",
      "id": "d4224cf6",
      "metadata": {
        "id": "d4224cf6"
      },
      "source": [
        "### Exercise: Compare the train and test RMSE of Random Forest models (`ranf_reg` and `rf_gs`). Which one is better? Argument."
      ]
    },
    {
      "cell_type": "markdown",
      "source": [
        "gs is better, because the test errer is lower than the reg. which means is more popular."
      ],
      "metadata": {
        "id": "wYk0-rnTsmBs"
      },
      "id": "wYk0-rnTsmBs"
    },
    {
      "cell_type": "markdown",
      "id": "6bac7560-b1c1-486c-a476-be954137b132",
      "metadata": {
        "id": "6bac7560-b1c1-486c-a476-be954137b132"
      },
      "source": [
        "---\n",
        "\n",
        "# 3. Classification\n",
        "\n",
        "We now turn our attention towards the other type of supervised learning: classification.\n",
        "\n",
        "Many questions in chemistry can be framed as a classification task:\n",
        "\n",
        "- Will this molecule act as a nucleophile or electrophile in my reaction?\n",
        "- What is the smell of this substance? (fruity, citrus, sweet, ...)\n",
        "\n",
        "But in this tutorial we will try to respond:\n",
        "\n",
        "<div>\n",
        "<img src=\"https://github.com/schwallergroup/ai4chem_course/blob/main/notebooks/02%20-%20Supervised%20Learning/img/is_this_toxic.png?raw=1\" width=\"500\"/>\n",
        "</div>\n",
        "\n",
        "\n",
        "---\n",
        "\n",
        "## For this, we need data. [MoleculeNet](https://moleculenet.org/datasets-1) provides several datasets, and we'll work with `ToxCast` for prediction of toxicity.\n",
        "\n",
        "ToxCast is a dataset containing `toxicology data for a large library of compounds based on in vitro high-throughput screening, including experiments on over 600 tasks`.\n",
        "\n",
        "Let's see if one of our models can tell what molecules are toxic!\n",
        "\n",
        "This is super useful for instance in drug discovery, where we want to know if a molecule has potential as a drug, **even before we synthesize it**.\n",
        "\n",
        "The steps we follow are similar to those we saw for regression:\n",
        "\n",
        "1. Prepare & split data\n",
        "2. Choose a model\n",
        "3. Train the model\n",
        "4. Evaluate the model\n",
        "5. Use the model"
      ]
    },
    {
      "cell_type": "markdown",
      "source": [],
      "metadata": {
        "id": "mhZSSS1wskW1"
      },
      "id": "mhZSSS1wskW1"
    },
    {
      "cell_type": "code",
      "execution_count": null,
      "id": "cd83e8dd-2277-42c6-b99a-2eec6b0e44f4",
      "metadata": {
        "id": "cd83e8dd-2277-42c6-b99a-2eec6b0e44f4",
        "outputId": "c1df7cbf-9644-472a-8385-d39a09d18e55",
        "colab": {
          "base_uri": "https://localhost:8080/",
          "height": 227
        }
      },
      "outputs": [
        {
          "output_type": "execute_result",
          "data": {
            "text/plain": [
              "                                      smiles  ACEA_T47D_80hr_Negative  \\\n",
              "0                [O-][N+](=O)C1=CC=C(Cl)C=C1                      0.0   \n",
              "1  C[SiH](C)O[Si](C)(C)O[Si](C)(C)O[SiH](C)C                      NaN   \n",
              "2                   CN1CCN(CC1)C(=O)C1CCCCC1                      NaN   \n",
              "\n",
              "   ACEA_T47D_80hr_Positive  APR_HepG2_CellCycleArrest_24h_dn  \\\n",
              "0                      0.0                               NaN   \n",
              "1                      NaN                               NaN   \n",
              "2                      NaN                               NaN   \n",
              "\n",
              "   APR_HepG2_CellCycleArrest_24h_up  APR_HepG2_CellCycleArrest_72h_dn  \\\n",
              "0                               NaN                               NaN   \n",
              "1                               NaN                               NaN   \n",
              "2                               NaN                               NaN   \n",
              "\n",
              "   APR_HepG2_CellLoss_24h_dn  APR_HepG2_CellLoss_72h_dn  \\\n",
              "0                        NaN                        NaN   \n",
              "1                        NaN                        NaN   \n",
              "2                        NaN                        NaN   \n",
              "\n",
              "   APR_HepG2_MicrotubuleCSK_24h_dn  APR_HepG2_MicrotubuleCSK_24h_up  ...  \\\n",
              "0                              NaN                              NaN  ...   \n",
              "1                              NaN                              NaN  ...   \n",
              "2                              NaN                              NaN  ...   \n",
              "\n",
              "   Tanguay_ZF_120hpf_OTIC_up  Tanguay_ZF_120hpf_PE_up  \\\n",
              "0                        0.0                      0.0   \n",
              "1                        NaN                      NaN   \n",
              "2                        NaN                      NaN   \n",
              "\n",
              "   Tanguay_ZF_120hpf_PFIN_up  Tanguay_ZF_120hpf_PIG_up  \\\n",
              "0                        0.0                       0.0   \n",
              "1                        NaN                       NaN   \n",
              "2                        NaN                       NaN   \n",
              "\n",
              "   Tanguay_ZF_120hpf_SNOU_up  Tanguay_ZF_120hpf_SOMI_up  \\\n",
              "0                        0.0                        0.0   \n",
              "1                        NaN                        NaN   \n",
              "2                        NaN                        NaN   \n",
              "\n",
              "   Tanguay_ZF_120hpf_SWIM_up  Tanguay_ZF_120hpf_TRUN_up  \\\n",
              "0                        0.0                        0.0   \n",
              "1                        NaN                        NaN   \n",
              "2                        NaN                        NaN   \n",
              "\n",
              "   Tanguay_ZF_120hpf_TR_up  Tanguay_ZF_120hpf_YSE_up  \n",
              "0                      0.0                       0.0  \n",
              "1                      NaN                       NaN  \n",
              "2                      NaN                       NaN  \n",
              "\n",
              "[3 rows x 618 columns]"
            ],
            "text/html": [
              "\n",
              "  <div id=\"df-21345534-429d-485c-8b2b-f70e13c46da4\" class=\"colab-df-container\">\n",
              "    <div>\n",
              "<style scoped>\n",
              "    .dataframe tbody tr th:only-of-type {\n",
              "        vertical-align: middle;\n",
              "    }\n",
              "\n",
              "    .dataframe tbody tr th {\n",
              "        vertical-align: top;\n",
              "    }\n",
              "\n",
              "    .dataframe thead th {\n",
              "        text-align: right;\n",
              "    }\n",
              "</style>\n",
              "<table border=\"1\" class=\"dataframe\">\n",
              "  <thead>\n",
              "    <tr style=\"text-align: right;\">\n",
              "      <th></th>\n",
              "      <th>smiles</th>\n",
              "      <th>ACEA_T47D_80hr_Negative</th>\n",
              "      <th>ACEA_T47D_80hr_Positive</th>\n",
              "      <th>APR_HepG2_CellCycleArrest_24h_dn</th>\n",
              "      <th>APR_HepG2_CellCycleArrest_24h_up</th>\n",
              "      <th>APR_HepG2_CellCycleArrest_72h_dn</th>\n",
              "      <th>APR_HepG2_CellLoss_24h_dn</th>\n",
              "      <th>APR_HepG2_CellLoss_72h_dn</th>\n",
              "      <th>APR_HepG2_MicrotubuleCSK_24h_dn</th>\n",
              "      <th>APR_HepG2_MicrotubuleCSK_24h_up</th>\n",
              "      <th>...</th>\n",
              "      <th>Tanguay_ZF_120hpf_OTIC_up</th>\n",
              "      <th>Tanguay_ZF_120hpf_PE_up</th>\n",
              "      <th>Tanguay_ZF_120hpf_PFIN_up</th>\n",
              "      <th>Tanguay_ZF_120hpf_PIG_up</th>\n",
              "      <th>Tanguay_ZF_120hpf_SNOU_up</th>\n",
              "      <th>Tanguay_ZF_120hpf_SOMI_up</th>\n",
              "      <th>Tanguay_ZF_120hpf_SWIM_up</th>\n",
              "      <th>Tanguay_ZF_120hpf_TRUN_up</th>\n",
              "      <th>Tanguay_ZF_120hpf_TR_up</th>\n",
              "      <th>Tanguay_ZF_120hpf_YSE_up</th>\n",
              "    </tr>\n",
              "  </thead>\n",
              "  <tbody>\n",
              "    <tr>\n",
              "      <th>0</th>\n",
              "      <td>[O-][N+](=O)C1=CC=C(Cl)C=C1</td>\n",
              "      <td>0.0</td>\n",
              "      <td>0.0</td>\n",
              "      <td>NaN</td>\n",
              "      <td>NaN</td>\n",
              "      <td>NaN</td>\n",
              "      <td>NaN</td>\n",
              "      <td>NaN</td>\n",
              "      <td>NaN</td>\n",
              "      <td>NaN</td>\n",
              "      <td>...</td>\n",
              "      <td>0.0</td>\n",
              "      <td>0.0</td>\n",
              "      <td>0.0</td>\n",
              "      <td>0.0</td>\n",
              "      <td>0.0</td>\n",
              "      <td>0.0</td>\n",
              "      <td>0.0</td>\n",
              "      <td>0.0</td>\n",
              "      <td>0.0</td>\n",
              "      <td>0.0</td>\n",
              "    </tr>\n",
              "    <tr>\n",
              "      <th>1</th>\n",
              "      <td>C[SiH](C)O[Si](C)(C)O[Si](C)(C)O[SiH](C)C</td>\n",
              "      <td>NaN</td>\n",
              "      <td>NaN</td>\n",
              "      <td>NaN</td>\n",
              "      <td>NaN</td>\n",
              "      <td>NaN</td>\n",
              "      <td>NaN</td>\n",
              "      <td>NaN</td>\n",
              "      <td>NaN</td>\n",
              "      <td>NaN</td>\n",
              "      <td>...</td>\n",
              "      <td>NaN</td>\n",
              "      <td>NaN</td>\n",
              "      <td>NaN</td>\n",
              "      <td>NaN</td>\n",
              "      <td>NaN</td>\n",
              "      <td>NaN</td>\n",
              "      <td>NaN</td>\n",
              "      <td>NaN</td>\n",
              "      <td>NaN</td>\n",
              "      <td>NaN</td>\n",
              "    </tr>\n",
              "    <tr>\n",
              "      <th>2</th>\n",
              "      <td>CN1CCN(CC1)C(=O)C1CCCCC1</td>\n",
              "      <td>NaN</td>\n",
              "      <td>NaN</td>\n",
              "      <td>NaN</td>\n",
              "      <td>NaN</td>\n",
              "      <td>NaN</td>\n",
              "      <td>NaN</td>\n",
              "      <td>NaN</td>\n",
              "      <td>NaN</td>\n",
              "      <td>NaN</td>\n",
              "      <td>...</td>\n",
              "      <td>NaN</td>\n",
              "      <td>NaN</td>\n",
              "      <td>NaN</td>\n",
              "      <td>NaN</td>\n",
              "      <td>NaN</td>\n",
              "      <td>NaN</td>\n",
              "      <td>NaN</td>\n",
              "      <td>NaN</td>\n",
              "      <td>NaN</td>\n",
              "      <td>NaN</td>\n",
              "    </tr>\n",
              "  </tbody>\n",
              "</table>\n",
              "<p>3 rows × 618 columns</p>\n",
              "</div>\n",
              "    <div class=\"colab-df-buttons\">\n",
              "\n",
              "  <div class=\"colab-df-container\">\n",
              "    <button class=\"colab-df-convert\" onclick=\"convertToInteractive('df-21345534-429d-485c-8b2b-f70e13c46da4')\"\n",
              "            title=\"Convert this dataframe to an interactive table.\"\n",
              "            style=\"display:none;\">\n",
              "\n",
              "  <svg xmlns=\"http://www.w3.org/2000/svg\" height=\"24px\" viewBox=\"0 -960 960 960\">\n",
              "    <path d=\"M120-120v-720h720v720H120Zm60-500h600v-160H180v160Zm220 220h160v-160H400v160Zm0 220h160v-160H400v160ZM180-400h160v-160H180v160Zm440 0h160v-160H620v160ZM180-180h160v-160H180v160Zm440 0h160v-160H620v160Z\"/>\n",
              "  </svg>\n",
              "    </button>\n",
              "\n",
              "  <style>\n",
              "    .colab-df-container {\n",
              "      display:flex;\n",
              "      gap: 12px;\n",
              "    }\n",
              "\n",
              "    .colab-df-convert {\n",
              "      background-color: #E8F0FE;\n",
              "      border: none;\n",
              "      border-radius: 50%;\n",
              "      cursor: pointer;\n",
              "      display: none;\n",
              "      fill: #1967D2;\n",
              "      height: 32px;\n",
              "      padding: 0 0 0 0;\n",
              "      width: 32px;\n",
              "    }\n",
              "\n",
              "    .colab-df-convert:hover {\n",
              "      background-color: #E2EBFA;\n",
              "      box-shadow: 0px 1px 2px rgba(60, 64, 67, 0.3), 0px 1px 3px 1px rgba(60, 64, 67, 0.15);\n",
              "      fill: #174EA6;\n",
              "    }\n",
              "\n",
              "    .colab-df-buttons div {\n",
              "      margin-bottom: 4px;\n",
              "    }\n",
              "\n",
              "    [theme=dark] .colab-df-convert {\n",
              "      background-color: #3B4455;\n",
              "      fill: #D2E3FC;\n",
              "    }\n",
              "\n",
              "    [theme=dark] .colab-df-convert:hover {\n",
              "      background-color: #434B5C;\n",
              "      box-shadow: 0px 1px 3px 1px rgba(0, 0, 0, 0.15);\n",
              "      filter: drop-shadow(0px 1px 2px rgba(0, 0, 0, 0.3));\n",
              "      fill: #FFFFFF;\n",
              "    }\n",
              "  </style>\n",
              "\n",
              "    <script>\n",
              "      const buttonEl =\n",
              "        document.querySelector('#df-21345534-429d-485c-8b2b-f70e13c46da4 button.colab-df-convert');\n",
              "      buttonEl.style.display =\n",
              "        google.colab.kernel.accessAllowed ? 'block' : 'none';\n",
              "\n",
              "      async function convertToInteractive(key) {\n",
              "        const element = document.querySelector('#df-21345534-429d-485c-8b2b-f70e13c46da4');\n",
              "        const dataTable =\n",
              "          await google.colab.kernel.invokeFunction('convertToInteractive',\n",
              "                                                    [key], {});\n",
              "        if (!dataTable) return;\n",
              "\n",
              "        const docLinkHtml = 'Like what you see? Visit the ' +\n",
              "          '<a target=\"_blank\" href=https://colab.research.google.com/notebooks/data_table.ipynb>data table notebook</a>'\n",
              "          + ' to learn more about interactive tables.';\n",
              "        element.innerHTML = '';\n",
              "        dataTable['output_type'] = 'display_data';\n",
              "        await google.colab.output.renderOutput(dataTable, element);\n",
              "        const docLink = document.createElement('div');\n",
              "        docLink.innerHTML = docLinkHtml;\n",
              "        element.appendChild(docLink);\n",
              "      }\n",
              "    </script>\n",
              "  </div>\n",
              "\n",
              "\n",
              "<div id=\"df-4ca9d893-9848-4222-9da5-2115123a3129\">\n",
              "  <button class=\"colab-df-quickchart\" onclick=\"quickchart('df-4ca9d893-9848-4222-9da5-2115123a3129')\"\n",
              "            title=\"Suggest charts\"\n",
              "            style=\"display:none;\">\n",
              "\n",
              "<svg xmlns=\"http://www.w3.org/2000/svg\" height=\"24px\"viewBox=\"0 0 24 24\"\n",
              "     width=\"24px\">\n",
              "    <g>\n",
              "        <path d=\"M19 3H5c-1.1 0-2 .9-2 2v14c0 1.1.9 2 2 2h14c1.1 0 2-.9 2-2V5c0-1.1-.9-2-2-2zM9 17H7v-7h2v7zm4 0h-2V7h2v10zm4 0h-2v-4h2v4z\"/>\n",
              "    </g>\n",
              "</svg>\n",
              "  </button>\n",
              "\n",
              "<style>\n",
              "  .colab-df-quickchart {\n",
              "      --bg-color: #E8F0FE;\n",
              "      --fill-color: #1967D2;\n",
              "      --hover-bg-color: #E2EBFA;\n",
              "      --hover-fill-color: #174EA6;\n",
              "      --disabled-fill-color: #AAA;\n",
              "      --disabled-bg-color: #DDD;\n",
              "  }\n",
              "\n",
              "  [theme=dark] .colab-df-quickchart {\n",
              "      --bg-color: #3B4455;\n",
              "      --fill-color: #D2E3FC;\n",
              "      --hover-bg-color: #434B5C;\n",
              "      --hover-fill-color: #FFFFFF;\n",
              "      --disabled-bg-color: #3B4455;\n",
              "      --disabled-fill-color: #666;\n",
              "  }\n",
              "\n",
              "  .colab-df-quickchart {\n",
              "    background-color: var(--bg-color);\n",
              "    border: none;\n",
              "    border-radius: 50%;\n",
              "    cursor: pointer;\n",
              "    display: none;\n",
              "    fill: var(--fill-color);\n",
              "    height: 32px;\n",
              "    padding: 0;\n",
              "    width: 32px;\n",
              "  }\n",
              "\n",
              "  .colab-df-quickchart:hover {\n",
              "    background-color: var(--hover-bg-color);\n",
              "    box-shadow: 0 1px 2px rgba(60, 64, 67, 0.3), 0 1px 3px 1px rgba(60, 64, 67, 0.15);\n",
              "    fill: var(--button-hover-fill-color);\n",
              "  }\n",
              "\n",
              "  .colab-df-quickchart-complete:disabled,\n",
              "  .colab-df-quickchart-complete:disabled:hover {\n",
              "    background-color: var(--disabled-bg-color);\n",
              "    fill: var(--disabled-fill-color);\n",
              "    box-shadow: none;\n",
              "  }\n",
              "\n",
              "  .colab-df-spinner {\n",
              "    border: 2px solid var(--fill-color);\n",
              "    border-color: transparent;\n",
              "    border-bottom-color: var(--fill-color);\n",
              "    animation:\n",
              "      spin 1s steps(1) infinite;\n",
              "  }\n",
              "\n",
              "  @keyframes spin {\n",
              "    0% {\n",
              "      border-color: transparent;\n",
              "      border-bottom-color: var(--fill-color);\n",
              "      border-left-color: var(--fill-color);\n",
              "    }\n",
              "    20% {\n",
              "      border-color: transparent;\n",
              "      border-left-color: var(--fill-color);\n",
              "      border-top-color: var(--fill-color);\n",
              "    }\n",
              "    30% {\n",
              "      border-color: transparent;\n",
              "      border-left-color: var(--fill-color);\n",
              "      border-top-color: var(--fill-color);\n",
              "      border-right-color: var(--fill-color);\n",
              "    }\n",
              "    40% {\n",
              "      border-color: transparent;\n",
              "      border-right-color: var(--fill-color);\n",
              "      border-top-color: var(--fill-color);\n",
              "    }\n",
              "    60% {\n",
              "      border-color: transparent;\n",
              "      border-right-color: var(--fill-color);\n",
              "    }\n",
              "    80% {\n",
              "      border-color: transparent;\n",
              "      border-right-color: var(--fill-color);\n",
              "      border-bottom-color: var(--fill-color);\n",
              "    }\n",
              "    90% {\n",
              "      border-color: transparent;\n",
              "      border-bottom-color: var(--fill-color);\n",
              "    }\n",
              "  }\n",
              "</style>\n",
              "\n",
              "  <script>\n",
              "    async function quickchart(key) {\n",
              "      const quickchartButtonEl =\n",
              "        document.querySelector('#' + key + ' button');\n",
              "      quickchartButtonEl.disabled = true;  // To prevent multiple clicks.\n",
              "      quickchartButtonEl.classList.add('colab-df-spinner');\n",
              "      try {\n",
              "        const charts = await google.colab.kernel.invokeFunction(\n",
              "            'suggestCharts', [key], {});\n",
              "      } catch (error) {\n",
              "        console.error('Error during call to suggestCharts:', error);\n",
              "      }\n",
              "      quickchartButtonEl.classList.remove('colab-df-spinner');\n",
              "      quickchartButtonEl.classList.add('colab-df-quickchart-complete');\n",
              "    }\n",
              "    (() => {\n",
              "      let quickchartButtonEl =\n",
              "        document.querySelector('#df-4ca9d893-9848-4222-9da5-2115123a3129 button');\n",
              "      quickchartButtonEl.style.display =\n",
              "        google.colab.kernel.accessAllowed ? 'block' : 'none';\n",
              "    })();\n",
              "  </script>\n",
              "</div>\n",
              "    </div>\n",
              "  </div>\n"
            ],
            "application/vnd.google.colaboratory.intrinsic+json": {
              "type": "dataframe",
              "variable_name": "df_toxicity"
            }
          },
          "metadata": {},
          "execution_count": 39
        }
      ],
      "source": [
        "import pandas as pd\n",
        "\n",
        "# Load clintox data from the data directory and see what it contains\n",
        "df_toxicity = pd.read_csv(\"data/toxcast_data.csv\")\n",
        "df_toxicity.head(3)"
      ]
    },
    {
      "cell_type": "code",
      "source": [
        "df_toxicity.shape"
      ],
      "metadata": {
        "id": "ekkGXbYBtULV",
        "outputId": "c95380ef-871d-404d-a7ba-b0fb6cac7f1d",
        "colab": {
          "base_uri": "https://localhost:8080/"
        }
      },
      "id": "ekkGXbYBtULV",
      "execution_count": null,
      "outputs": [
        {
          "output_type": "execute_result",
          "data": {
            "text/plain": [
              "(8597, 618)"
            ]
          },
          "metadata": {},
          "execution_count": 41
        }
      ]
    },
    {
      "cell_type": "markdown",
      "id": "d241778d-4b07-44cd-8713-c11c736f5e5c",
      "metadata": {
        "id": "d241778d-4b07-44cd-8713-c11c736f5e5c"
      },
      "source": [
        "This dataset contains the molecule SMILES, plus a lot of data coming from different [toxicity measurements](https://www.epa.gov/chemical-research/exploring-toxcast-data).\n",
        "\n",
        "We will stick to `TOX21_TR_LUC_GH3_Antagonist`, as is the one for which we have more data."
      ]
    },
    {
      "cell_type": "code",
      "execution_count": null,
      "id": "51abea66-40f1-4183-b79d-ccee003a17f6",
      "metadata": {
        "id": "51abea66-40f1-4183-b79d-ccee003a17f6",
        "outputId": "a195cac5-a5da-41b1-f7c4-4fbce9eeacb7",
        "colab": {
          "base_uri": "https://localhost:8080/",
          "height": 206
        }
      },
      "outputs": [
        {
          "output_type": "execute_result",
          "data": {
            "text/plain": [
              "                                                 smiles  toxic\n",
              "5166                   CC1=C(O)C(CN)=C(COP(O)(O)=O)C=N1    0.0\n",
              "4559  C[C@H](CCC(O)=O)[C@H]1CC[C@H]2[C@@H]3CC[C@@H]4...    1.0\n",
              "7055                                          BrC(Br)Br    0.0\n",
              "4497                                              C1CS1    0.0\n",
              "3001                  OCCN(CCO)CCO.OC(=O)C1=C(O)C=CC=C1    0.0"
            ],
            "text/html": [
              "\n",
              "  <div id=\"df-c43e61e3-0045-4c28-b7b1-45fb05c728bb\" class=\"colab-df-container\">\n",
              "    <div>\n",
              "<style scoped>\n",
              "    .dataframe tbody tr th:only-of-type {\n",
              "        vertical-align: middle;\n",
              "    }\n",
              "\n",
              "    .dataframe tbody tr th {\n",
              "        vertical-align: top;\n",
              "    }\n",
              "\n",
              "    .dataframe thead th {\n",
              "        text-align: right;\n",
              "    }\n",
              "</style>\n",
              "<table border=\"1\" class=\"dataframe\">\n",
              "  <thead>\n",
              "    <tr style=\"text-align: right;\">\n",
              "      <th></th>\n",
              "      <th>smiles</th>\n",
              "      <th>toxic</th>\n",
              "    </tr>\n",
              "  </thead>\n",
              "  <tbody>\n",
              "    <tr>\n",
              "      <th>5166</th>\n",
              "      <td>CC1=C(O)C(CN)=C(COP(O)(O)=O)C=N1</td>\n",
              "      <td>0.0</td>\n",
              "    </tr>\n",
              "    <tr>\n",
              "      <th>4559</th>\n",
              "      <td>C[C@H](CCC(O)=O)[C@H]1CC[C@H]2[C@@H]3CC[C@@H]4...</td>\n",
              "      <td>1.0</td>\n",
              "    </tr>\n",
              "    <tr>\n",
              "      <th>7055</th>\n",
              "      <td>BrC(Br)Br</td>\n",
              "      <td>0.0</td>\n",
              "    </tr>\n",
              "    <tr>\n",
              "      <th>4497</th>\n",
              "      <td>C1CS1</td>\n",
              "      <td>0.0</td>\n",
              "    </tr>\n",
              "    <tr>\n",
              "      <th>3001</th>\n",
              "      <td>OCCN(CCO)CCO.OC(=O)C1=C(O)C=CC=C1</td>\n",
              "      <td>0.0</td>\n",
              "    </tr>\n",
              "  </tbody>\n",
              "</table>\n",
              "</div>\n",
              "    <div class=\"colab-df-buttons\">\n",
              "\n",
              "  <div class=\"colab-df-container\">\n",
              "    <button class=\"colab-df-convert\" onclick=\"convertToInteractive('df-c43e61e3-0045-4c28-b7b1-45fb05c728bb')\"\n",
              "            title=\"Convert this dataframe to an interactive table.\"\n",
              "            style=\"display:none;\">\n",
              "\n",
              "  <svg xmlns=\"http://www.w3.org/2000/svg\" height=\"24px\" viewBox=\"0 -960 960 960\">\n",
              "    <path d=\"M120-120v-720h720v720H120Zm60-500h600v-160H180v160Zm220 220h160v-160H400v160Zm0 220h160v-160H400v160ZM180-400h160v-160H180v160Zm440 0h160v-160H620v160ZM180-180h160v-160H180v160Zm440 0h160v-160H620v160Z\"/>\n",
              "  </svg>\n",
              "    </button>\n",
              "\n",
              "  <style>\n",
              "    .colab-df-container {\n",
              "      display:flex;\n",
              "      gap: 12px;\n",
              "    }\n",
              "\n",
              "    .colab-df-convert {\n",
              "      background-color: #E8F0FE;\n",
              "      border: none;\n",
              "      border-radius: 50%;\n",
              "      cursor: pointer;\n",
              "      display: none;\n",
              "      fill: #1967D2;\n",
              "      height: 32px;\n",
              "      padding: 0 0 0 0;\n",
              "      width: 32px;\n",
              "    }\n",
              "\n",
              "    .colab-df-convert:hover {\n",
              "      background-color: #E2EBFA;\n",
              "      box-shadow: 0px 1px 2px rgba(60, 64, 67, 0.3), 0px 1px 3px 1px rgba(60, 64, 67, 0.15);\n",
              "      fill: #174EA6;\n",
              "    }\n",
              "\n",
              "    .colab-df-buttons div {\n",
              "      margin-bottom: 4px;\n",
              "    }\n",
              "\n",
              "    [theme=dark] .colab-df-convert {\n",
              "      background-color: #3B4455;\n",
              "      fill: #D2E3FC;\n",
              "    }\n",
              "\n",
              "    [theme=dark] .colab-df-convert:hover {\n",
              "      background-color: #434B5C;\n",
              "      box-shadow: 0px 1px 3px 1px rgba(0, 0, 0, 0.15);\n",
              "      filter: drop-shadow(0px 1px 2px rgba(0, 0, 0, 0.3));\n",
              "      fill: #FFFFFF;\n",
              "    }\n",
              "  </style>\n",
              "\n",
              "    <script>\n",
              "      const buttonEl =\n",
              "        document.querySelector('#df-c43e61e3-0045-4c28-b7b1-45fb05c728bb button.colab-df-convert');\n",
              "      buttonEl.style.display =\n",
              "        google.colab.kernel.accessAllowed ? 'block' : 'none';\n",
              "\n",
              "      async function convertToInteractive(key) {\n",
              "        const element = document.querySelector('#df-c43e61e3-0045-4c28-b7b1-45fb05c728bb');\n",
              "        const dataTable =\n",
              "          await google.colab.kernel.invokeFunction('convertToInteractive',\n",
              "                                                    [key], {});\n",
              "        if (!dataTable) return;\n",
              "\n",
              "        const docLinkHtml = 'Like what you see? Visit the ' +\n",
              "          '<a target=\"_blank\" href=https://colab.research.google.com/notebooks/data_table.ipynb>data table notebook</a>'\n",
              "          + ' to learn more about interactive tables.';\n",
              "        element.innerHTML = '';\n",
              "        dataTable['output_type'] = 'display_data';\n",
              "        await google.colab.output.renderOutput(dataTable, element);\n",
              "        const docLink = document.createElement('div');\n",
              "        docLink.innerHTML = docLinkHtml;\n",
              "        element.appendChild(docLink);\n",
              "      }\n",
              "    </script>\n",
              "  </div>\n",
              "\n",
              "\n",
              "<div id=\"df-b7f8f132-ffe1-4234-bb71-6c9b713377c4\">\n",
              "  <button class=\"colab-df-quickchart\" onclick=\"quickchart('df-b7f8f132-ffe1-4234-bb71-6c9b713377c4')\"\n",
              "            title=\"Suggest charts\"\n",
              "            style=\"display:none;\">\n",
              "\n",
              "<svg xmlns=\"http://www.w3.org/2000/svg\" height=\"24px\"viewBox=\"0 0 24 24\"\n",
              "     width=\"24px\">\n",
              "    <g>\n",
              "        <path d=\"M19 3H5c-1.1 0-2 .9-2 2v14c0 1.1.9 2 2 2h14c1.1 0 2-.9 2-2V5c0-1.1-.9-2-2-2zM9 17H7v-7h2v7zm4 0h-2V7h2v10zm4 0h-2v-4h2v4z\"/>\n",
              "    </g>\n",
              "</svg>\n",
              "  </button>\n",
              "\n",
              "<style>\n",
              "  .colab-df-quickchart {\n",
              "      --bg-color: #E8F0FE;\n",
              "      --fill-color: #1967D2;\n",
              "      --hover-bg-color: #E2EBFA;\n",
              "      --hover-fill-color: #174EA6;\n",
              "      --disabled-fill-color: #AAA;\n",
              "      --disabled-bg-color: #DDD;\n",
              "  }\n",
              "\n",
              "  [theme=dark] .colab-df-quickchart {\n",
              "      --bg-color: #3B4455;\n",
              "      --fill-color: #D2E3FC;\n",
              "      --hover-bg-color: #434B5C;\n",
              "      --hover-fill-color: #FFFFFF;\n",
              "      --disabled-bg-color: #3B4455;\n",
              "      --disabled-fill-color: #666;\n",
              "  }\n",
              "\n",
              "  .colab-df-quickchart {\n",
              "    background-color: var(--bg-color);\n",
              "    border: none;\n",
              "    border-radius: 50%;\n",
              "    cursor: pointer;\n",
              "    display: none;\n",
              "    fill: var(--fill-color);\n",
              "    height: 32px;\n",
              "    padding: 0;\n",
              "    width: 32px;\n",
              "  }\n",
              "\n",
              "  .colab-df-quickchart:hover {\n",
              "    background-color: var(--hover-bg-color);\n",
              "    box-shadow: 0 1px 2px rgba(60, 64, 67, 0.3), 0 1px 3px 1px rgba(60, 64, 67, 0.15);\n",
              "    fill: var(--button-hover-fill-color);\n",
              "  }\n",
              "\n",
              "  .colab-df-quickchart-complete:disabled,\n",
              "  .colab-df-quickchart-complete:disabled:hover {\n",
              "    background-color: var(--disabled-bg-color);\n",
              "    fill: var(--disabled-fill-color);\n",
              "    box-shadow: none;\n",
              "  }\n",
              "\n",
              "  .colab-df-spinner {\n",
              "    border: 2px solid var(--fill-color);\n",
              "    border-color: transparent;\n",
              "    border-bottom-color: var(--fill-color);\n",
              "    animation:\n",
              "      spin 1s steps(1) infinite;\n",
              "  }\n",
              "\n",
              "  @keyframes spin {\n",
              "    0% {\n",
              "      border-color: transparent;\n",
              "      border-bottom-color: var(--fill-color);\n",
              "      border-left-color: var(--fill-color);\n",
              "    }\n",
              "    20% {\n",
              "      border-color: transparent;\n",
              "      border-left-color: var(--fill-color);\n",
              "      border-top-color: var(--fill-color);\n",
              "    }\n",
              "    30% {\n",
              "      border-color: transparent;\n",
              "      border-left-color: var(--fill-color);\n",
              "      border-top-color: var(--fill-color);\n",
              "      border-right-color: var(--fill-color);\n",
              "    }\n",
              "    40% {\n",
              "      border-color: transparent;\n",
              "      border-right-color: var(--fill-color);\n",
              "      border-top-color: var(--fill-color);\n",
              "    }\n",
              "    60% {\n",
              "      border-color: transparent;\n",
              "      border-right-color: var(--fill-color);\n",
              "    }\n",
              "    80% {\n",
              "      border-color: transparent;\n",
              "      border-right-color: var(--fill-color);\n",
              "      border-bottom-color: var(--fill-color);\n",
              "    }\n",
              "    90% {\n",
              "      border-color: transparent;\n",
              "      border-bottom-color: var(--fill-color);\n",
              "    }\n",
              "  }\n",
              "</style>\n",
              "\n",
              "  <script>\n",
              "    async function quickchart(key) {\n",
              "      const quickchartButtonEl =\n",
              "        document.querySelector('#' + key + ' button');\n",
              "      quickchartButtonEl.disabled = true;  // To prevent multiple clicks.\n",
              "      quickchartButtonEl.classList.add('colab-df-spinner');\n",
              "      try {\n",
              "        const charts = await google.colab.kernel.invokeFunction(\n",
              "            'suggestCharts', [key], {});\n",
              "      } catch (error) {\n",
              "        console.error('Error during call to suggestCharts:', error);\n",
              "      }\n",
              "      quickchartButtonEl.classList.remove('colab-df-spinner');\n",
              "      quickchartButtonEl.classList.add('colab-df-quickchart-complete');\n",
              "    }\n",
              "    (() => {\n",
              "      let quickchartButtonEl =\n",
              "        document.querySelector('#df-b7f8f132-ffe1-4234-bb71-6c9b713377c4 button');\n",
              "      quickchartButtonEl.style.display =\n",
              "        google.colab.kernel.accessAllowed ? 'block' : 'none';\n",
              "    })();\n",
              "  </script>\n",
              "</div>\n",
              "    </div>\n",
              "  </div>\n"
            ],
            "application/vnd.google.colaboratory.intrinsic+json": {
              "type": "dataframe",
              "summary": "{\n  \"name\": \"df_tox\",\n  \"rows\": 5,\n  \"fields\": [\n    {\n      \"column\": \"smiles\",\n      \"properties\": {\n        \"dtype\": \"string\",\n        \"num_unique_values\": 5,\n        \"samples\": [\n          \"C[C@H](CCC(O)=O)[C@H]1CC[C@H]2[C@@H]3CC[C@@H]4C[C@H](O)CC[C@]4(C)[C@H]3CC[C@]12C\",\n          \"OCCN(CCO)CCO.OC(=O)C1=C(O)C=CC=C1\",\n          \"BrC(Br)Br\"\n        ],\n        \"semantic_type\": \"\",\n        \"description\": \"\"\n      }\n    },\n    {\n      \"column\": \"toxic\",\n      \"properties\": {\n        \"dtype\": \"number\",\n        \"std\": 0.44721359549995804,\n        \"min\": 0.0,\n        \"max\": 1.0,\n        \"num_unique_values\": 2,\n        \"samples\": [\n          1.0,\n          0.0\n        ],\n        \"semantic_type\": \"\",\n        \"description\": \"\"\n      }\n    }\n  ]\n}"
            }
          },
          "metadata": {},
          "execution_count": 40
        }
      ],
      "source": [
        "df_tox = df_toxicity.loc[:,[\"smiles\",\"TOX21_TR_LUC_GH3_Antagonist\"]].dropna()\n",
        "df_tox.columns = [\"smiles\", \"toxic\"]\n",
        "df_tox.sample(5)"
      ]
    },
    {
      "cell_type": "code",
      "execution_count": null,
      "id": "0e3cfd3d-5090-4a34-8fde-c7e6f157e144",
      "metadata": {
        "id": "0e3cfd3d-5090-4a34-8fde-c7e6f157e144",
        "outputId": "7e0ae7f3-6f9f-40f8-cf38-ce974d57709a",
        "colab": {
          "base_uri": "https://localhost:8080/",
          "height": 637
        }
      },
      "outputs": [
        {
          "output_type": "execute_result",
          "data": {
            "image/png": "[encoded data removed]",
            "text/plain": [
              "<IPython.core.display.Image object>"
            ]
          },
          "metadata": {},
          "execution_count": 42
        }
      ],
      "source": [
        "from rdkit import Chem\n",
        "from rdkit.Chem import Draw\n",
        "\n",
        "# Visualize some of the molecules of this dataset\n",
        "n=6\n",
        "df_sample=df_tox.sample(n)\n",
        "\n",
        "smiles = df_sample.smiles.values\n",
        "legend = df_sample.toxic.values\n",
        "molecs = [Chem.MolFromSmiles(s) for s in smiles]\n",
        "\n",
        "Draw.MolsToGridImage(\n",
        "    molecs,\n",
        "    subImgSize=(600,300),\n",
        "    legends=[\"Toxic\" if i==1 else \"Non toxic\" for i in legend]\n",
        ")"
      ]
    },
    {
      "cell_type": "code",
      "execution_count": null,
      "id": "b3d934d7-2b65-436f-a02f-f7115c6c977d",
      "metadata": {
        "id": "b3d934d7-2b65-436f-a02f-f7115c6c977d",
        "outputId": "215b3d85-396d-40ad-ecdc-324dc44d2808",
        "colab": {
          "base_uri": "https://localhost:8080/"
        }
      },
      "outputs": [
        {
          "output_type": "stream",
          "name": "stdout",
          "text": [
            "The dataset contains 7950 molecules; 1764 of them are toxic.\n"
          ]
        }
      ],
      "source": [
        "# How many toxic molecules are in the dataset?\n",
        "counts = df_tox[\"toxic\"].value_counts()\n",
        "\n",
        "print(f\"The dataset contains {counts.sum()} molecules; {counts.iloc[1]} of them are toxic.\")"
      ]
    },
    {
      "cell_type": "markdown",
      "id": "e7330eb2-1955-4f1d-92a6-7a094ad50333",
      "metadata": {
        "tags": [],
        "id": "e7330eb2-1955-4f1d-92a6-7a094ad50333"
      },
      "source": [
        "## Now, we will calculate some molecular descriptors using the [mordred package](http://mordred-descriptor.github.io/documentation/master/descriptors.html)."
      ]
    },
    {
      "cell_type": "code",
      "execution_count": null,
      "id": "ba4b862e-4f02-445f-96c5-658bb7d1c64f",
      "metadata": {
        "id": "ba4b862e-4f02-445f-96c5-658bb7d1c64f",
        "outputId": "796b6b28-ba08-4016-e90c-e37696f35b44",
        "colab": {
          "base_uri": "https://localhost:8080/"
        }
      },
      "outputs": [
        {
          "output_type": "stream",
          "name": "stdout",
          "text": [
            "Number of molecular descriptors: 1613\n"
          ]
        }
      ],
      "source": [
        "from rdkit import Chem\n",
        "import numpy as np\n",
        "from deepchem.feat import MordredDescriptors\n",
        "\n",
        "featurizer = MordredDescriptors(ignore_3D=True)\n",
        "features = featurizer.featurize(\"CCC\")\n",
        "print(\"Number of molecular descriptors:\", features.shape[1])"
      ]
    },
    {
      "cell_type": "markdown",
      "id": "711d031a-ca7c-4cf2-a959-389fd711cdc2",
      "metadata": {
        "id": "711d031a-ca7c-4cf2-a959-389fd711cdc2"
      },
      "source": [
        "This can take a while (at least 40 minutes), you can use this time to explore a bit the more than 1600 descriptors from mordred!"
      ]
    },
    {
      "cell_type": "code",
      "execution_count": null,
      "id": "ddf18155-356f-4305-9727-1ebf3f6d90ed",
      "metadata": {
        "tags": [],
        "id": "ddf18155-356f-4305-9727-1ebf3f6d90ed",
        "outputId": "c8078ff0-5935-412f-abb5-4130d4de0a5d",
        "colab": {
          "base_uri": "https://localhost:8080/"
        }
      },
      "outputs": [
        {
          "output_type": "stream",
          "name": "stderr",
          "text": [
            "[14:18:07] Explicit valence for atom # 0 F, 2, is greater than permitted\n",
            "WARNING:deepchem.feat.base_classes:Failed to featurize datapoint 0, None. Appending empty array\n",
            "WARNING:deepchem.feat.base_classes:Exception message: Python argument types in\n",
            "    rdkit.Chem.rdmolfiles.CanonicalRankAtoms(NoneType)\n",
            "did not match C++ signature:\n",
            "    CanonicalRankAtoms(RDKit::ROMol mol, bool breakTies=True, bool includeChirality=True, bool includeIsotopes=True, bool includeAtomMaps=True)\n",
            "[14:20:42] Explicit valence for atom # 2 Cl, 2, is greater than permitted\n",
            "WARNING:deepchem.feat.base_classes:Failed to featurize datapoint 0, None. Appending empty array\n",
            "WARNING:deepchem.feat.base_classes:Exception message: Python argument types in\n",
            "    rdkit.Chem.rdmolfiles.CanonicalRankAtoms(NoneType)\n",
            "did not match C++ signature:\n",
            "    CanonicalRankAtoms(RDKit::ROMol mol, bool breakTies=True, bool includeChirality=True, bool includeIsotopes=True, bool includeAtomMaps=True)\n",
            "[14:21:05] Explicit valence for atom # 0 Cl, 2, is greater than permitted\n",
            "WARNING:deepchem.feat.base_classes:Failed to featurize datapoint 0, None. Appending empty array\n",
            "WARNING:deepchem.feat.base_classes:Exception message: Python argument types in\n",
            "    rdkit.Chem.rdmolfiles.CanonicalRankAtoms(NoneType)\n",
            "did not match C++ signature:\n",
            "    CanonicalRankAtoms(RDKit::ROMol mol, bool breakTies=True, bool includeChirality=True, bool includeIsotopes=True, bool includeAtomMaps=True)\n",
            "[14:23:06] WARNING: not removing hydrogen atom without neighbors\n",
            "[14:23:06] WARNING: not removing hydrogen atom without neighbors\n",
            "[14:23:06] WARNING: not removing hydrogen atom without neighbors\n",
            "[14:23:06] WARNING: not removing hydrogen atom without neighbors\n",
            "[14:23:06] Explicit valence for atom # 3 Si, 8, is greater than permitted\n",
            "WARNING:deepchem.feat.base_classes:Failed to featurize datapoint 0, None. Appending empty array\n",
            "WARNING:deepchem.feat.base_classes:Exception message: Python argument types in\n",
            "    rdkit.Chem.rdmolfiles.CanonicalRankAtoms(NoneType)\n",
            "did not match C++ signature:\n",
            "    CanonicalRankAtoms(RDKit::ROMol mol, bool breakTies=True, bool includeChirality=True, bool includeIsotopes=True, bool includeAtomMaps=True)\n",
            "[14:23:07] Explicit valence for atom # 3 Si, 8, is greater than permitted\n",
            "WARNING:deepchem.feat.base_classes:Failed to featurize datapoint 0, None. Appending empty array\n",
            "WARNING:deepchem.feat.base_classes:Exception message: Python argument types in\n",
            "    rdkit.Chem.rdmolfiles.CanonicalRankAtoms(NoneType)\n",
            "did not match C++ signature:\n",
            "    CanonicalRankAtoms(RDKit::ROMol mol, bool breakTies=True, bool includeChirality=True, bool includeIsotopes=True, bool includeAtomMaps=True)\n",
            "[14:29:18] SMILES Parse Error: syntax error while parsing: FAIL\n",
            "[14:29:18] SMILES Parse Error: Failed parsing SMILES 'FAIL' for input: 'FAIL'\n",
            "WARNING:deepchem.feat.base_classes:Failed to featurize datapoint 0, None. Appending empty array\n",
            "WARNING:deepchem.feat.base_classes:Exception message: Python argument types in\n",
            "    rdkit.Chem.rdmolfiles.CanonicalRankAtoms(NoneType)\n",
            "did not match C++ signature:\n",
            "    CanonicalRankAtoms(RDKit::ROMol mol, bool breakTies=True, bool includeChirality=True, bool includeIsotopes=True, bool includeAtomMaps=True)\n",
            "[14:31:29] SMILES Parse Error: syntax error while parsing: FAIL\n",
            "[14:31:29] SMILES Parse Error: Failed parsing SMILES 'FAIL' for input: 'FAIL'\n",
            "WARNING:deepchem.feat.base_classes:Failed to featurize datapoint 0, None. Appending empty array\n",
            "WARNING:deepchem.feat.base_classes:Exception message: Python argument types in\n",
            "    rdkit.Chem.rdmolfiles.CanonicalRankAtoms(NoneType)\n",
            "did not match C++ signature:\n",
            "    CanonicalRankAtoms(RDKit::ROMol mol, bool breakTies=True, bool includeChirality=True, bool includeIsotopes=True, bool includeAtomMaps=True)\n",
            "[14:32:40] SMILES Parse Error: syntax error while parsing: FAIL\n",
            "[14:32:40] SMILES Parse Error: Failed parsing SMILES 'FAIL' for input: 'FAIL'\n",
            "WARNING:deepchem.feat.base_classes:Failed to featurize datapoint 0, None. Appending empty array\n",
            "WARNING:deepchem.feat.base_classes:Exception message: Python argument types in\n",
            "    rdkit.Chem.rdmolfiles.CanonicalRankAtoms(NoneType)\n",
            "did not match C++ signature:\n",
            "    CanonicalRankAtoms(RDKit::ROMol mol, bool breakTies=True, bool includeChirality=True, bool includeIsotopes=True, bool includeAtomMaps=True)\n",
            "[14:35:42] SMILES Parse Error: syntax error while parsing: FAIL\n",
            "[14:35:42] SMILES Parse Error: Failed parsing SMILES 'FAIL' for input: 'FAIL'\n",
            "WARNING:deepchem.feat.base_classes:Failed to featurize datapoint 0, None. Appending empty array\n",
            "WARNING:deepchem.feat.base_classes:Exception message: Python argument types in\n",
            "    rdkit.Chem.rdmolfiles.CanonicalRankAtoms(NoneType)\n",
            "did not match C++ signature:\n",
            "    CanonicalRankAtoms(RDKit::ROMol mol, bool breakTies=True, bool includeChirality=True, bool includeIsotopes=True, bool includeAtomMaps=True)\n",
            "[14:37:31] SMILES Parse Error: syntax error while parsing: FAIL\n",
            "[14:37:31] SMILES Parse Error: Failed parsing SMILES 'FAIL' for input: 'FAIL'\n",
            "WARNING:deepchem.feat.base_classes:Failed to featurize datapoint 0, None. Appending empty array\n",
            "WARNING:deepchem.feat.base_classes:Exception message: Python argument types in\n",
            "    rdkit.Chem.rdmolfiles.CanonicalRankAtoms(NoneType)\n",
            "did not match C++ signature:\n",
            "    CanonicalRankAtoms(RDKit::ROMol mol, bool breakTies=True, bool includeChirality=True, bool includeIsotopes=True, bool includeAtomMaps=True)\n",
            "[14:37:35] SMILES Parse Error: syntax error while parsing: FAIL\n",
            "[14:37:35] SMILES Parse Error: Failed parsing SMILES 'FAIL' for input: 'FAIL'\n",
            "WARNING:deepchem.feat.base_classes:Failed to featurize datapoint 0, None. Appending empty array\n",
            "WARNING:deepchem.feat.base_classes:Exception message: Python argument types in\n",
            "    rdkit.Chem.rdmolfiles.CanonicalRankAtoms(NoneType)\n",
            "did not match C++ signature:\n",
            "    CanonicalRankAtoms(RDKit::ROMol mol, bool breakTies=True, bool includeChirality=True, bool includeIsotopes=True, bool includeAtomMaps=True)\n",
            "[14:38:36] SMILES Parse Error: syntax error while parsing: FAIL\n",
            "[14:38:36] SMILES Parse Error: Failed parsing SMILES 'FAIL' for input: 'FAIL'\n",
            "WARNING:deepchem.feat.base_classes:Failed to featurize datapoint 0, None. Appending empty array\n",
            "WARNING:deepchem.feat.base_classes:Exception message: Python argument types in\n",
            "    rdkit.Chem.rdmolfiles.CanonicalRankAtoms(NoneType)\n",
            "did not match C++ signature:\n",
            "    CanonicalRankAtoms(RDKit::ROMol mol, bool breakTies=True, bool includeChirality=True, bool includeIsotopes=True, bool includeAtomMaps=True)\n",
            "[14:39:32] SMILES Parse Error: syntax error while parsing: FAIL\n",
            "[14:39:32] SMILES Parse Error: Failed parsing SMILES 'FAIL' for input: 'FAIL'\n",
            "WARNING:deepchem.feat.base_classes:Failed to featurize datapoint 0, None. Appending empty array\n",
            "WARNING:deepchem.feat.base_classes:Exception message: Python argument types in\n",
            "    rdkit.Chem.rdmolfiles.CanonicalRankAtoms(NoneType)\n",
            "did not match C++ signature:\n",
            "    CanonicalRankAtoms(RDKit::ROMol mol, bool breakTies=True, bool includeChirality=True, bool includeIsotopes=True, bool includeAtomMaps=True)\n",
            "[14:39:57] SMILES Parse Error: syntax error while parsing: FAIL\n",
            "[14:39:57] SMILES Parse Error: Failed parsing SMILES 'FAIL' for input: 'FAIL'\n",
            "WARNING:deepchem.feat.base_classes:Failed to featurize datapoint 0, None. Appending empty array\n",
            "WARNING:deepchem.feat.base_classes:Exception message: Python argument types in\n",
            "    rdkit.Chem.rdmolfiles.CanonicalRankAtoms(NoneType)\n",
            "did not match C++ signature:\n",
            "    CanonicalRankAtoms(RDKit::ROMol mol, bool breakTies=True, bool includeChirality=True, bool includeIsotopes=True, bool includeAtomMaps=True)\n",
            "[14:41:49] SMILES Parse Error: syntax error while parsing: FAIL\n",
            "[14:41:49] SMILES Parse Error: Failed parsing SMILES 'FAIL' for input: 'FAIL'\n",
            "WARNING:deepchem.feat.base_classes:Failed to featurize datapoint 0, None. Appending empty array\n",
            "WARNING:deepchem.feat.base_classes:Exception message: Python argument types in\n",
            "    rdkit.Chem.rdmolfiles.CanonicalRankAtoms(NoneType)\n",
            "did not match C++ signature:\n",
            "    CanonicalRankAtoms(RDKit::ROMol mol, bool breakTies=True, bool includeChirality=True, bool includeIsotopes=True, bool includeAtomMaps=True)\n",
            "[14:42:06] SMILES Parse Error: syntax error while parsing: FAIL\n",
            "[14:42:06] SMILES Parse Error: Failed parsing SMILES 'FAIL' for input: 'FAIL'\n",
            "WARNING:deepchem.feat.base_classes:Failed to featurize datapoint 0, None. Appending empty array\n",
            "WARNING:deepchem.feat.base_classes:Exception message: Python argument types in\n",
            "    rdkit.Chem.rdmolfiles.CanonicalRankAtoms(NoneType)\n",
            "did not match C++ signature:\n",
            "    CanonicalRankAtoms(RDKit::ROMol mol, bool breakTies=True, bool includeChirality=True, bool includeIsotopes=True, bool includeAtomMaps=True)\n",
            "[14:42:25] SMILES Parse Error: syntax error while parsing: FAIL\n",
            "[14:42:25] SMILES Parse Error: Failed parsing SMILES 'FAIL' for input: 'FAIL'\n",
            "WARNING:deepchem.feat.base_classes:Failed to featurize datapoint 0, None. Appending empty array\n",
            "WARNING:deepchem.feat.base_classes:Exception message: Python argument types in\n",
            "    rdkit.Chem.rdmolfiles.CanonicalRankAtoms(NoneType)\n",
            "did not match C++ signature:\n",
            "    CanonicalRankAtoms(RDKit::ROMol mol, bool breakTies=True, bool includeChirality=True, bool includeIsotopes=True, bool includeAtomMaps=True)\n",
            "[14:42:47] SMILES Parse Error: syntax error while parsing: FAIL\n",
            "[14:42:47] SMILES Parse Error: Failed parsing SMILES 'FAIL' for input: 'FAIL'\n",
            "WARNING:deepchem.feat.base_classes:Failed to featurize datapoint 0, None. Appending empty array\n",
            "WARNING:deepchem.feat.base_classes:Exception message: Python argument types in\n",
            "    rdkit.Chem.rdmolfiles.CanonicalRankAtoms(NoneType)\n",
            "did not match C++ signature:\n",
            "    CanonicalRankAtoms(RDKit::ROMol mol, bool breakTies=True, bool includeChirality=True, bool includeIsotopes=True, bool includeAtomMaps=True)\n"
          ]
        },
        {
          "output_type": "stream",
          "name": "stdout",
          "text": [
            "Dropping 18 molecules that couldn't be featurized.\n"
          ]
        }
      ],
      "source": [
        "X_raw = df_tox.smiles.apply(lambda x: featurizer.featurize(x))\n",
        "y_raw = df_tox.toxic\n",
        "\n",
        "# As you see from the warnings, mordred couldn't calculate features for a few molecules (but don't worry!)\n",
        "# Remove these molecules from the dataset\n",
        "\n",
        "# Featurizer should return array of size (1, number_of_features)\n",
        "missing = X_raw.apply(lambda x: x.shape == (1, features.shape[1]))\n",
        "\n",
        "print(f\"Dropping {(~missing).sum()} molecules that couldn't be featurized.\")\n",
        "X = X_raw[missing].values\n",
        "y = y_raw[missing].values\n",
        "\n",
        "X = np.concatenate(X)\n",
        "\n",
        "# Save\n",
        "np.save(\"data/features_tox.npy\", X)\n",
        "np.save(\"data/y_tox.npy\", y)"
      ]
    },
    {
      "cell_type": "code",
      "execution_count": null,
      "id": "4b6dc3fc-87f0-4198-a637-bb602803c49e",
      "metadata": {
        "id": "4b6dc3fc-87f0-4198-a637-bb602803c49e"
      },
      "outputs": [],
      "source": [
        "X = np.load(\"data/features_tox.npy\")\n",
        "y = np.load(\"data/y_tox.npy\")"
      ]
    },
    {
      "cell_type": "code",
      "source": [
        "df_tox.smiles[~missing]"
      ],
      "metadata": {
        "id": "5lwC4eNu59Md",
        "outputId": "f13e3cf6-1838-443c-b47b-8ed4483fbafa",
        "colab": {
          "base_uri": "https://localhost:8080/"
        }
      },
      "id": "5lwC4eNu59Md",
      "execution_count": null,
      "outputs": [
        {
          "output_type": "execute_result",
          "data": {
            "text/plain": [
              "1039       [F-][B+3]([F-])([F-])[F-].CC[N+]1(C)CCCC1\n",
              "1789    [NH4+].[NH4+].[Cl-][Pt++]([Cl-])([Cl-])[Cl-]\n",
              "1881                [Cl-][Pt]1([Cl-])[NH2+]CC[NH2+]1\n",
              "2456                [Na+].[Na+].F[Si--](F)(F)(F)(F)F\n",
              "2463              [NH4+].[NH4+].F[Si--](F)(F)(F)(F)F\n",
              "4175                                            FAIL\n",
              "4781                                            FAIL\n",
              "5098                                            FAIL\n",
              "5993                                            FAIL\n",
              "6611                                            FAIL\n",
              "6625                                            FAIL\n",
              "6909                                            FAIL\n",
              "7185                                            FAIL\n",
              "7338                                            FAIL\n",
              "7862                                            FAIL\n",
              "7950                                            FAIL\n",
              "8047                                            FAIL\n",
              "8182                                            FAIL\n",
              "Name: smiles, dtype: object"
            ]
          },
          "metadata": {},
          "execution_count": 88
        }
      ]
    },
    {
      "cell_type": "code",
      "execution_count": null,
      "id": "df19e380-eaf6-4f72-851c-ccb226f1611d",
      "metadata": {
        "id": "df19e380-eaf6-4f72-851c-ccb226f1611d",
        "outputId": "03e6684e-970b-4832-f786-d8a5d35d56e3",
        "colab": {
          "base_uri": "https://localhost:8080/"
        }
      },
      "outputs": [
        {
          "output_type": "stream",
          "name": "stderr",
          "text": [
            "[15:15:45] SMILES Parse Error: syntax error while parsing: FAIL\n",
            "[15:15:45] SMILES Parse Error: Failed parsing SMILES 'FAIL' for input: 'FAIL'\n",
            "[15:15:45] SMILES Parse Error: syntax error while parsing: FAIL\n",
            "[15:15:45] SMILES Parse Error: Failed parsing SMILES 'FAIL' for input: 'FAIL'\n",
            "[15:15:45] SMILES Parse Error: syntax error while parsing: FAIL\n",
            "[15:15:45] SMILES Parse Error: Failed parsing SMILES 'FAIL' for input: 'FAIL'\n",
            "[15:15:45] SMILES Parse Error: syntax error while parsing: FAIL\n",
            "[15:15:45] SMILES Parse Error: Failed parsing SMILES 'FAIL' for input: 'FAIL'\n",
            "[15:15:45] SMILES Parse Error: syntax error while parsing: FAIL\n",
            "[15:15:45] SMILES Parse Error: Failed parsing SMILES 'FAIL' for input: 'FAIL'\n",
            "[15:15:45] SMILES Parse Error: syntax error while parsing: FAIL\n",
            "[15:15:45] SMILES Parse Error: Failed parsing SMILES 'FAIL' for input: 'FAIL'\n",
            "[15:15:45] SMILES Parse Error: syntax error while parsing: FAIL\n",
            "[15:15:45] SMILES Parse Error: Failed parsing SMILES 'FAIL' for input: 'FAIL'\n",
            "[15:15:45] SMILES Parse Error: syntax error while parsing: FAIL\n",
            "[15:15:45] SMILES Parse Error: Failed parsing SMILES 'FAIL' for input: 'FAIL'\n",
            "[15:15:45] SMILES Parse Error: syntax error while parsing: FAIL\n",
            "[15:15:45] SMILES Parse Error: Failed parsing SMILES 'FAIL' for input: 'FAIL'\n",
            "[15:15:45] SMILES Parse Error: syntax error while parsing: FAIL\n",
            "[15:15:45] SMILES Parse Error: Failed parsing SMILES 'FAIL' for input: 'FAIL'\n",
            "[15:15:45] SMILES Parse Error: syntax error while parsing: FAIL\n",
            "[15:15:45] SMILES Parse Error: Failed parsing SMILES 'FAIL' for input: 'FAIL'\n",
            "[15:15:45] SMILES Parse Error: syntax error while parsing: FAIL\n",
            "[15:15:45] SMILES Parse Error: Failed parsing SMILES 'FAIL' for input: 'FAIL'\n",
            "[15:15:45] SMILES Parse Error: syntax error while parsing: FAIL\n",
            "[15:15:45] SMILES Parse Error: Failed parsing SMILES 'FAIL' for input: 'FAIL'\n"
          ]
        },
        {
          "output_type": "execute_result",
          "data": {
            "text/plain": [
              "18"
            ]
          },
          "metadata": {},
          "execution_count": 90
        }
      ],
      "source": [
        "# Challenge: Which molecules couldn't be featurized? Why?\n",
        "# Using code from above, visualize the faulty molecules.\n",
        "\n",
        "##################\n",
        "# Your code here #\n",
        "\n",
        "error_molecs = [Chem.MolFromSmiles(s,sanitize =False) for s in df_tox.smiles[~missing]]\n",
        "Draw.MolsToGridImage(\n",
        "    error_molecs,\n",
        "    subImgSize=(600, 300),\n",
        ")\n",
        "len(\n",
        "error_molecs)\n",
        "##################"
      ]
    },
    {
      "cell_type": "markdown",
      "id": "4920f04b-5cb3-4057-bac5-e7ed8eca57dc",
      "metadata": {
        "tags": [],
        "id": "4920f04b-5cb3-4057-bac5-e7ed8eca57dc"
      },
      "source": [
        "## Data splitting.\n",
        "\n",
        "For this exercise, we will do a simple train/test split as we will not optimize hyperparameters. (Maybe bonus exercise here?)"
      ]
    },
    {
      "cell_type": "code",
      "execution_count": null,
      "id": "23c46051-b3dc-4931-91ed-7904dcc1d08c",
      "metadata": {
        "id": "23c46051-b3dc-4931-91ed-7904dcc1d08c",
        "outputId": "4a2796fd-68cc-4234-851a-5b436215563c",
        "colab": {
          "base_uri": "https://localhost:8080/"
        }
      },
      "outputs": [
        {
          "output_type": "stream",
          "name": "stdout",
          "text": [
            "Train set size is 6345 rows, test set size is 1587 rows.\n"
          ]
        }
      ],
      "source": [
        "from sklearn.model_selection import train_test_split\n",
        "\n",
        "# train data size : test data size = 0.8 : 0.2\n",
        "# fixed seed using the random_state parameter, so it always has the same split.\n",
        "X_train, X_test, y_train, y_test = train_test_split(\n",
        "    X,\n",
        "    y,\n",
        "    train_size=0.8,\n",
        "    random_state=0\n",
        ")\n",
        "\n",
        "print(f\"Train set size is {X_train.shape[0]} rows, test set size is {X_test.shape[0]} rows.\")"
      ]
    },
    {
      "cell_type": "markdown",
      "id": "a5de382e-50de-4211-911a-08ed09bfb4a5",
      "metadata": {
        "tags": [],
        "id": "a5de382e-50de-4211-911a-08ed09bfb4a5"
      },
      "source": [
        "## Model\n",
        "\n",
        "Let's train a [Random Forest Classification](https://scikit-learn.org/stable/modules/generated/sklearn.ensemble.RandomForestClassifier.html) from scikit-learn."
      ]
    },
    {
      "cell_type": "code",
      "execution_count": null,
      "id": "33d6b738-759b-4b47-9c0f-fa0e7ca8e9b7",
      "metadata": {
        "id": "33d6b738-759b-4b47-9c0f-fa0e7ca8e9b7"
      },
      "outputs": [],
      "source": [
        "from sklearn.ensemble import RandomForestClassifier\n",
        "\n",
        "rf_clf = RandomForestClassifier(\n",
        "    n_estimators=300,\n",
        "    max_depth=10,\n",
        "    random_state=0\n",
        ")\n",
        "rf_clf.fit(X_train, y_train);"
      ]
    },
    {
      "cell_type": "markdown",
      "id": "13029e24-4b8c-45c5-9bd9-be41479dba50",
      "metadata": {
        "tags": [],
        "id": "13029e24-4b8c-45c5-9bd9-be41479dba50"
      },
      "source": [
        "### Exercise: You have already seen some cool classification algorithms in class.\n",
        "\n",
        "In this exercise, your task is to implement your 2 favorite algorithms using sklearn.\n",
        "\n",
        "Recommendations:\n",
        "\n",
        "- You can choose from [Logistic Regression](https://scikit-learn.org/stable/modules/linear_model.html#logistic-regression), [Support Vector Machines](https://scikit-learn.org/stable/modules/svm.html#classification), [Gradient Boosting](https://scikit-learn.org/stable/modules/ensemble.html#gradient-tree-boosting), or any other from the [sklearn documentation](https://scikit-learn.org/stable/supervised_learning.html).\n",
        "- Give a different name to each model. For instance, our Random Forest model is `rf_clf`."
      ]
    },
    {
      "cell_type": "code",
      "execution_count": null,
      "id": "567ec970-200c-4d22-bd40-e2e791faa004",
      "metadata": {
        "id": "567ec970-200c-4d22-bd40-e2e791faa004"
      },
      "outputs": [],
      "source": [
        "##################\n",
        "from sklearn import svm\n",
        "svm_clf = svm.SVC()\n",
        "svm_clf.fit(X_train, y_train)\n",
        "\n",
        "from sklearn.ensemble import HistGradientBoostingClassifier\n",
        "gb_clf = HistGradientBoostingClassifier(max_iter=100).fit(X_train, y_train)\n",
        "##################"
      ]
    },
    {
      "cell_type": "markdown",
      "id": "2cf09c91-bdcc-450b-ac7e-0799111fb453",
      "metadata": {
        "id": "2cf09c91-bdcc-450b-ac7e-0799111fb453"
      },
      "source": [
        "## After training these models, let's see which one worked best!\n",
        "\n",
        "For the evaluation of classification models, **we use different metrics** than evaluation of regression models. \\\n",
        "You can read more about each metric [here](https://scikit-learn.org/stable/modules/model_evaluation.html), but for this tutorial we will use [accuracy](https://scikit-learn.org/stable/modules/generated/sklearn.metrics.accuracy_score.html#sklearn.metrics.accuracy_score), [ROC-AUC](https://scikit-learn.org/stable/modules/generated/sklearn.metrics.roc_auc_score.html#sklearn.metrics.roc_auc_score), and [F1 Score](https://scikit-learn.org/stable/modules/generated/sklearn.metrics.f1_score.html#sklearn.metrics.f1_score)."
      ]
    },
    {
      "cell_type": "code",
      "execution_count": null,
      "id": "121851be-f4b9-4ac0-83e0-269ecff3de7b",
      "metadata": {
        "id": "121851be-f4b9-4ac0-83e0-269ecff3de7b",
        "outputId": "8135cec8-73a8-4b2f-9597-300129ec6232",
        "colab": {
          "base_uri": "https://localhost:8080/"
        }
      },
      "outputs": [
        {
          "output_type": "execute_result",
          "data": {
            "text/plain": [
              "0.8349086326402017"
            ]
          },
          "metadata": {},
          "execution_count": 97
        }
      ],
      "source": [
        "# Let's evaluate our models\n",
        "y_pred_rf = rf_clf.predict(X_test)\n",
        "\n",
        "# Exercise: Use your models to predict the toxicity of the molecules on the test set.\n",
        "\n",
        "##################\n",
        "from sklearn.metrics import accuracy_score\n",
        "accuracy_score(y_test, y_pred_rf)\n",
        "\n",
        "##################"
      ]
    },
    {
      "cell_type": "code",
      "source": [
        "from sklearn.metrics import roc_auc_score\n",
        "roc_auc_score(y_test, y_pred_rf)"
      ],
      "metadata": {
        "id": "6IS0MfV0-gxx",
        "outputId": "7d4cf853-a3e9-4314-ec4b-5083615d3d0f",
        "colab": {
          "base_uri": "https://localhost:8080/"
        }
      },
      "id": "6IS0MfV0-gxx",
      "execution_count": null,
      "outputs": [
        {
          "output_type": "execute_result",
          "data": {
            "text/plain": [
              "0.6946905922315758"
            ]
          },
          "metadata": {},
          "execution_count": 98
        }
      ]
    },
    {
      "cell_type": "code",
      "source": [
        "from sklearn.metrics import f1_score\n",
        "f1_score(y_test, y_pred_rf)"
      ],
      "metadata": {
        "id": "OztAvZ-f-tpt",
        "outputId": "95a4404c-2e11-40e6-ab1d-bd5a8dca9d5e",
        "colab": {
          "base_uri": "https://localhost:8080/"
        }
      },
      "id": "OztAvZ-f-tpt",
      "execution_count": null,
      "outputs": [
        {
          "output_type": "execute_result",
          "data": {
            "text/plain": [
              "0.5482758620689655"
            ]
          },
          "metadata": {},
          "execution_count": 99
        }
      ]
    },
    {
      "cell_type": "code",
      "execution_count": null,
      "id": "67108633-40d3-4cae-b45d-6f5853254dc2",
      "metadata": {
        "id": "67108633-40d3-4cae-b45d-6f5853254dc2",
        "outputId": "0683aa17-a531-48fb-d65a-fbf7ffe88397",
        "colab": {
          "base_uri": "https://localhost:8080/"
        }
      },
      "outputs": [
        {
          "output_type": "stream",
          "name": "stdout",
          "text": [
            "Accuracy of Random Forest Classifier is 0.835\n",
            "ROC-AUC of Random Forest Classifier is 0.695\n",
            "F1 Score of Random Forest Classifier is 0.548\n",
            "Accuracy of svm is 0.769\n",
            "ROC-AUC of svm  is 0.500\n",
            "F1 Score of svm  is 0.000\n"
          ]
        }
      ],
      "source": [
        "from sklearn.metrics import (\n",
        "    accuracy_score,\n",
        "    roc_auc_score,\n",
        "    f1_score\n",
        ")\n",
        "\n",
        "# Let's calculate accuracy_score for all our models\n",
        "acc_rf = accuracy_score(y_test, y_pred_rf)\n",
        "print(f\"Accuracy of Random Forest Classifier is {acc_rf:.3f}\")\n",
        "auc_rf = roc_auc_score(y_test, y_pred_rf)\n",
        "print(f\"ROC-AUC of Random Forest Classifier is {auc_rf:.3f}\")\n",
        "f1s_rf = f1_score(y_test, y_pred_rf)\n",
        "print(f\"F1 Score of Random Forest Classifier is {f1s_rf:.3f}\")\n",
        "\n",
        "# Exercise: Calculate the 3 metrics for every model you trained, and compare results\n",
        "\n",
        "##################\n",
        "y_pred_rf1 = svm_clf.predict(X_test)\n",
        "acc_rf = accuracy_score(y_test, y_pred_rf1)\n",
        "print(f\"Accuracy of svm is {acc_rf:.3f}\")\n",
        "auc_rf = roc_auc_score(y_test, y_pred_rf1)\n",
        "print(f\"ROC-AUC of svm  is {auc_rf:.3f}\")\n",
        "f1s_rf = f1_score(y_test, y_pred_rf1)\n",
        "print(f\"F1 Score of svm  is {f1s_rf:.3f}\")\n",
        "##################"
      ]
    },
    {
      "cell_type": "markdown",
      "id": "c2eae97b-af7f-4d3a-a834-48ed7a400587",
      "metadata": {
        "id": "c2eae97b-af7f-4d3a-a834-48ed7a400587"
      },
      "source": [
        "---\n",
        "Find out what each metric is telling us. Should we trust such high accuracies? Why is accuracy so high compared to the other metrics?\n",
        "\n",
        "YOUR ANSWER:\n",
        "\n",
        "---"
      ]
    },
    {
      "cell_type": "markdown",
      "source": [
        "no， the accuracy is too much simple. While the other two show the property of the confusion matrix.\n",
        "F1-score:is the harmonic mean of precision and recall \\frac{2tp}{2tp+fn+fp}\n",
        "while the ROC-AUC is\n",
        "High accuracy may occur when the model is performing well overall. However, if there is class imbalance, the model might be biased towards the majority class. ROC-AUC and F1 Score provide a more nuanced view, taking into account the trade-offs between true positives, false positives, and false negatives, which accuracy alone may not capture."
      ],
      "metadata": {
        "id": "SxQXNmy4Bqf2"
      },
      "id": "SxQXNmy4Bqf2"
    },
    {
      "cell_type": "markdown",
      "source": [],
      "metadata": {
        "id": "67VYEuvaBAht"
      },
      "id": "67VYEuvaBAht"
    },
    {
      "cell_type": "code",
      "execution_count": null,
      "id": "d71f8e9d-d0ef-40b4-945e-fa85507cb922",
      "metadata": {
        "id": "d71f8e9d-d0ef-40b4-945e-fa85507cb922",
        "outputId": "a97ce579-ac5d-4688-928b-7b1ae73bb123",
        "colab": {
          "base_uri": "https://localhost:8080/",
          "height": 472
        }
      },
      "outputs": [
        {
          "output_type": "display_data",
          "data": {
            "text/plain": [
              "<Figure size 640x480 with 2 Axes>"
            ],
            "image/png": "[encoded data removed]"
          },
          "metadata": {}
        }
      ],
      "source": [
        "# TODO let's also do confusion matrix\n",
        "from pycm import ConfusionMatrix\n",
        "\n",
        "cm = ConfusionMatrix(actual_vector=y_test, predict_vector=y_pred_rf)\n",
        "cm.relabel(mapping={0:\"Non Toxic\", 1:\"Toxic\"})\n",
        "cm.plot(number_label=True);"
      ]
    },
    {
      "cell_type": "markdown",
      "id": "410c192a-ecbf-48f4-81fc-8d67fbefc7b4",
      "metadata": {
        "id": "410c192a-ecbf-48f4-81fc-8d67fbefc7b4"
      },
      "source": [
        "# So after all what, is my molecule toxic? Let's see what our model says!"
      ]
    },
    {
      "cell_type": "code",
      "execution_count": null,
      "id": "1b927033-af33-4e0a-b561-5a89e839c28e",
      "metadata": {
        "id": "1b927033-af33-4e0a-b561-5a89e839c28e",
        "outputId": "1fa965c8-d98b-4be5-befe-e2f013085a80",
        "colab": {
          "base_uri": "https://localhost:8080/",
          "height": 317
        }
      },
      "outputs": [
        {
          "output_type": "display_data",
          "data": {
            "image/png": "[encoded data removed]",
            "text/plain": [
              "<IPython.core.display.Image object>"
            ]
          },
          "metadata": {}
        }
      ],
      "source": [
        "from IPython.display import display\n",
        "\n",
        "def is_this_toxic(molecule, model):\n",
        "    \"\"\"\n",
        "    Ask model if the input molecule (smiles) is toxic or not.\n",
        "    \"\"\"\n",
        "\n",
        "    mol = Chem.MolFromSmiles(molecule)\n",
        "\n",
        "    # Calculate features\n",
        "    X_my_mol = featurizer.featurize(molecule)\n",
        "\n",
        "    # Get model prediction\n",
        "    is_toxic = model.predict(X_my_mol)\n",
        "    is_toxic = \"This molecule is toxic!\" if is_toxic else \"This is not toxic :)\"\n",
        "\n",
        "    img = Draw.MolsToGridImage(\n",
        "        [mol],\n",
        "        subImgSize=(600,300),\n",
        "        legends=[is_toxic],\n",
        "        molsPerRow=1\n",
        "    )\n",
        "    display(img)\n",
        "\n",
        "\n",
        "\n",
        "# Define molecule here\n",
        "molecule = \"COCCl\"\n",
        "is_this_toxic(molecule, model=rf_clf)\n",
        "\n",
        "\n",
        "# Exercise: Test with your own molecule!"
      ]
    },
    {
      "cell_type": "markdown",
      "id": "095f403e-d4e8-4272-8e50-0807c4a9b21a",
      "metadata": {
        "id": "095f403e-d4e8-4272-8e50-0807c4a9b21a"
      },
      "source": [
        "---\n",
        "\n",
        "## Should I trust this though?: Interpretability and explainability.\n",
        "\n",
        "> Cool, our models know stuff, but we also want to know! \\\n",
        "> What do they look at when they predict toxicity? Is there a key feature?\n",
        "\n",
        "\\\n",
        "Model explainability is a critical component of machine learning that seeks to provide insights into how a model arrives at its predictions or decisions. In other words, it aims to make the \"black box\" of machine learning models more transparent, so that we can understand the factors that are driving the model's output.\n",
        "\n",
        "There are many different methods for achieving model explainability (more on this [here](https://www.kaggle.com/learn/machine-learning-explainability)). \\\n",
        "These techniques can help us identify which features or variables are most important in driving the model's output, and can provide insights into the model's decision-making process.\n",
        "\n",
        "### Let's explore ways of measuring feature importance, which will tell us what our models are looking out when making predictions."
      ]
    },
    {
      "cell_type": "code",
      "execution_count": null,
      "id": "78e33561-72c1-4b3a-880c-93aa79825a56",
      "metadata": {
        "id": "78e33561-72c1-4b3a-880c-93aa79825a56",
        "outputId": "f0df64ae-9cf1-4162-8f4d-2baa16cd81cc",
        "colab": {
          "base_uri": "https://localhost:8080/",
          "height": 487
        }
      },
      "outputs": [
        {
          "output_type": "display_data",
          "data": {
            "text/plain": [
              "<Figure size 640x480 with 1 Axes>"
            ],
            "image/png": "[encoded data removed]"
          },
          "metadata": {}
        }
      ],
      "source": [
        "importances = pd.Series(rf_clf.feature_importances_, name=\"importance\")\n",
        "importances.index += 1\n",
        "std = pd.Series(np.std([tree.feature_importances_ for tree in rf_clf.estimators_], axis=0),\n",
        "                name=\"std\")\n",
        "\n",
        "importances = pd.concat([importances, std], axis=1)\n",
        "importances = importances.sort_values(by=\"importance\", ascending=False).iloc[:20]\n",
        "\n",
        "\n",
        "import matplotlib.pyplot as plt\n",
        "\n",
        "fig, ax = plt.subplots()\n",
        "importances[\"importance\"].plot.bar(yerr=importances[\"std\"], ax=ax)\n",
        "ax.set_title(\"Feature importances using MDI\")\n",
        "ax.set_ylabel(\"Mean decrease in impurity\")\n",
        "fig.tight_layout()"
      ]
    },
    {
      "cell_type": "markdown",
      "id": "23ca8ce8-6a53-4f72-af0c-6399a0a13c00",
      "metadata": {
        "id": "23ca8ce8-6a53-4f72-af0c-6399a0a13c00"
      },
      "source": [
        "---\n",
        "What can we learn from these results? \\\n",
        "Go to [Mordred documentation](http://mordred-descriptor.github.io/documentation/master/descriptors.html) and find these features. What are they, and do they make any sense?\n",
        "\n",
        "### Discuss\n",
        "In summary, this code calculates, organizes, and visualizes the feature importances of a Random Forest classifier, providing insights into which features contribute the most to the model's predictive performance. The use of standard deviation helps convey the uncertainty in these importance estimates.\n",
        "---"
      ]
    }
  ],
  "metadata": {
    "kernelspec": {
      "display_name": "Python 3.9.12 ('base')",
      "language": "python",
      "name": "python3"
    },
    "language_info": {
      "codemirror_mode": {
        "name": "ipython",
        "version": 3
      },
      "file_extension": ".py",
      "mimetype": "text/x-python",
      "name": "python",
      "nbconvert_exporter": "python",
      "pygments_lexer": "ipython3",
      "version": "3.9.12"
    },
    "vscode": {
      "interpreter": {
        "hash": "e1b1e114f4dae097b9e32029c5d22d73dc21a5dd723446d46774bd2adced9390"
      }
    },
    "colab": {
      "provenance": [],
      "include_colab_link": true
    }
  },
  "nbformat": 4,
  "nbformat_minor": 5
}